{
 "cells": [
  {
   "cell_type": "code",
   "execution_count": null,
   "id": "0345a16d",
   "metadata": {},
   "outputs": [],
   "source": [
    "# Single Linked List"
   ]
  },
  {
   "cell_type": "code",
   "execution_count": 5,
   "id": "3d0d8614",
   "metadata": {},
   "outputs": [
    {
     "name": "stdout",
     "output_type": "stream",
     "text": [
      "1 -> 2 -> 3 -> 4 -> None\n",
      "1 -> 2 -> 5 -> 3 -> 4 -> None\n",
      "1 -> 2 -> 5 -> 4 -> None\n",
      "True\n",
      "False\n"
     ]
    }
   ],
   "source": [
    "class Node:\n",
    "    def __init__(self, data):\n",
    "        self.data = data\n",
    "        self.next = None\n",
    "\n",
    "class LinkedList:\n",
    "    def __init__(self):\n",
    "        self.head = None\n",
    "\n",
    "    def append(self, data):\n",
    "        new_node = Node(data)\n",
    "        if self.head is None:\n",
    "            self.head = new_node\n",
    "        else:\n",
    "            current = self.head\n",
    "            while current.next:\n",
    "                current = current.next\n",
    "            current.next = new_node\n",
    "\n",
    "    def display(self):\n",
    "        current = self.head\n",
    "        while current:\n",
    "            print(current.data, end=\" -> \")\n",
    "            current = current.next\n",
    "        print(\"None\")\n",
    "\n",
    "    def insert_after(self, prev_data, new_data):\n",
    "        new_node = Node(new_data)\n",
    "        current = self.head\n",
    "        while current:\n",
    "            if current.data == prev_data:\n",
    "                new_node.next = current.next\n",
    "                current.next = new_node\n",
    "                return\n",
    "            current = current.next\n",
    "        print(f\"{prev_data} not found in the list.\")\n",
    "\n",
    "    def delete(self, data):\n",
    "        if self.head is None:\n",
    "            return\n",
    "\n",
    "        if self.head.data == data:\n",
    "            self.head = self.head.next\n",
    "            return\n",
    "\n",
    "        current = self.head\n",
    "        while current.next:\n",
    "            if current.next.data == data:\n",
    "                current.next = current.next.next\n",
    "                return\n",
    "            current = current.next\n",
    "        print(f\"{data} not found in the list.\")\n",
    "\n",
    "    def search(self, data):\n",
    "        current = self.head\n",
    "        while current:\n",
    "            if current.data == data:\n",
    "                return True\n",
    "            current = current.next\n",
    "        return False\n",
    "\n",
    "# Example usage:\n",
    "llist = LinkedList()\n",
    "\n",
    "# Appending elements\n",
    "llist.append(1)\n",
    "llist.append(2)\n",
    "llist.append(3)\n",
    "llist.append(4)\n",
    "\n",
    "# Displaying the list\n",
    "llist.display()  # Output: 1 -> 2 -> 3 -> 4 -> None\n",
    "\n",
    "# Inserting after a specific element\n",
    "llist.insert_after(2, 5)\n",
    "\n",
    "# Displaying the list again\n",
    "llist.display()  # Output: 1 -> 2 -> 5 -> 3 -> 4 -> None\n",
    "\n",
    "# Deleting an element\n",
    "llist.delete(3)\n",
    "\n",
    "# Displaying the updated list\n",
    "llist.display()  # Output: 1 -> 2 -> 5 -> 4 -> None\n",
    "\n",
    "# Searching for an element\n",
    "print(llist.search(5))  # Output: True\n",
    "print(llist.search(6))  # Output: False\n"
   ]
  },
  {
   "cell_type": "code",
   "execution_count": 6,
   "id": "ee60d74c",
   "metadata": {},
   "outputs": [
    {
     "name": "stdout",
     "output_type": "stream",
     "text": [
      "[8, 0, 7]\n"
     ]
    }
   ],
   "source": [
    "class ListNode:\n",
    "    def __init__(self, val=0, next=None):\n",
    "        self.val = val\n",
    "        self.next = next\n",
    "        \n",
    "class Solution:\n",
    "    def addTwoNumbers(self , l1, l2):\n",
    "        dummy_head = ListNode()  # Create a dummy head for the result linked list\n",
    "        current = dummy_head  # Initialize a current pointer to the dummy head\n",
    "        carry = 0  # Initialize the carry to 0\n",
    "\n",
    "        while l1 or l2 or carry:\n",
    "            # Get the values of the current nodes in l1 and l2 (or 0 if they are None)\n",
    "            val1 = l1.val if l1 else 0\n",
    "            val2 = l2.val if l2 else 0\n",
    "\n",
    "            # Calculate the sum of values from l1, l2, and the carry\n",
    "            total = val1 + val2 + carry\n",
    "\n",
    "            # Calculate the new carry for the next iteration\n",
    "            carry = total // 10\n",
    "\n",
    "            # Create a new node with the last digit of the total and append it to the result linked list\n",
    "            current.next = ListNode(total % 10)\n",
    "            current = current.next  # Move the current pointer to the new node\n",
    "\n",
    "            # Move to the next nodes in l1 and l2 (if they exist)\n",
    "            if l1:\n",
    "                l1 = l1.next\n",
    "            if l2:\n",
    "                l2 = l2.next\n",
    "\n",
    "        return dummy_head.next  # The result starts from the node after the dummy head\n",
    "\n",
    "# Helper function to convert a list of integers to a linked list\n",
    "def list_to_linkedlist(nums):\n",
    "    dummy_head = ListNode()\n",
    "    current = dummy_head\n",
    "    for num in nums:\n",
    "        current.next = ListNode(num)\n",
    "        current = current.next\n",
    "    return dummy_head.next\n",
    "\n",
    "# Helper function to convert a linked list to a list of integers\n",
    "def linkedlist_to_list(head):\n",
    "    result = []\n",
    "    current = head\n",
    "    while current:\n",
    "        result.append(current.val)\n",
    "        current = current.next\n",
    "    return result[::-1]\n",
    "\n",
    "# Example usage:\n",
    "l1 = list_to_linkedlist([2, 4, 3])\n",
    "l2 = list_to_linkedlist([5, 6, 4])\n",
    "s = Solution()\n",
    "result = s.addTwoNumbers(l1, l2)\n",
    "print(linkedlist_to_list(result))  # Output: [7, 0, 8]\n"
   ]
  },
  {
   "cell_type": "code",
   "execution_count": 2,
   "id": "8be8a2be",
   "metadata": {},
   "outputs": [
    {
     "data": {
      "text/plain": [
       "[8, 0, 7]"
      ]
     },
     "execution_count": 2,
     "metadata": {},
     "output_type": "execute_result"
    }
   ],
   "source": [
    "x = [7, 0, 8]\n",
    "x[::-1]"
   ]
  }
 ],
 "metadata": {
  "kernelspec": {
   "display_name": "Python 3 (ipykernel)",
   "language": "python",
   "name": "python3"
  },
  "language_info": {
   "codemirror_mode": {
    "name": "ipython",
    "version": 3
   },
   "file_extension": ".py",
   "mimetype": "text/x-python",
   "name": "python",
   "nbconvert_exporter": "python",
   "pygments_lexer": "ipython3",
   "version": "3.9.12"
  }
 },
 "nbformat": 4,
 "nbformat_minor": 5
}
