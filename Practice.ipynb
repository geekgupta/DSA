{
 "cells": [
  {
   "cell_type": "markdown",
   "metadata": {},
   "source": [
    "<h1> Binary Search </h1>"
   ]
  },
  {
   "cell_type": "markdown",
   "metadata": {},
   "source": [
    "<p> \n",
    "Given an array of integers nums which is sorted in ascending order, and an integer target, \n",
    "write a function to search target in nums. If target exists, then return its index. Otherwise, return -1.\n",
    "</p>\n",
    "\n",
    "Input: nums = [-1,0,3,5,9,12], target = 9\n",
    "Output: 4\n",
    "Explanation: 9 exists in nums and its index is 4\n"
   ]
  },
  {
   "cell_type": "code",
   "execution_count": 4,
   "metadata": {},
   "outputs": [
    {
     "name": "stdout",
     "output_type": "stream",
     "text": [
      "4\n"
     ]
    }
   ],
   "source": [
    "class Solution:\n",
    "    def search(self, nums , target):\n",
    "        l , r = 0 , len(nums)-1 \n",
    "        \n",
    "        while l <= r :\n",
    "            m = (l +r ) //  2\n",
    "            if target > nums[m]  : \n",
    "                l  = m + 1 \n",
    "            elif target < nums[m] : \n",
    "                r = m-1\n",
    "            else : \n",
    "                return m \n",
    "        return - 1 \n",
    "         \n",
    "        \n",
    "nums = [-1,0,3,5,9,12]\n",
    "target = 9        \n",
    "s = Solution()\n",
    "print(s.search(nums , target))"
   ]
  },
  {
   "cell_type": "code",
   "execution_count": 5,
   "metadata": {},
   "outputs": [
    {
     "data": {
      "text/plain": [
       "True"
      ]
     },
     "execution_count": 5,
     "metadata": {},
     "output_type": "execute_result"
    }
   ],
   "source": [
    "class Solution:\n",
    "    def searchMatrix(self, matrix , target):\n",
    "        for i in matrix : \n",
    "            if target in i : \n",
    "                return True\n",
    "            \n",
    "        \n",
    "        return False\n",
    "        \n",
    "        \n",
    "      \n",
    "matrix = [[1,3,5,7],[10,11,16,20],[23,30,34,60]]\n",
    "target = 3\n",
    "s = Solution()\n",
    "s.searchMatrix(matrix , target)"
   ]
  },
  {
   "cell_type": "markdown",
   "metadata": {},
   "source": [
    "<p> Search in roted sorted array </p>"
   ]
  },
  {
   "cell_type": "code",
   "execution_count": null,
   "metadata": {},
   "outputs": [],
   "source": [
    "class Solution:\n",
    "    def search(self, nums , target):\n",
    "        l , r = 0 , len(r)-1 \n",
    "        while l <=  r : \n",
    "            m = (l +r) // 2 \n",
    "            if target > nums[m] :\n",
    "                l = m + 1 \n",
    "            elif target < nums[m]:\n",
    "                 \n",
    "                \n",
    "            \n",
    "         \n",
    "        \n",
    "      \n",
    "nums = [4,5,6,7,0,1,2]\n",
    "target = 3\n",
    "s = Solution()\n",
    "s.searchnums(nums , target)"
   ]
  },
  {
   "cell_type": "code",
   "execution_count": null,
   "metadata": {},
   "outputs": [],
   "source": []
  },
  {
   "cell_type": "code",
   "execution_count": null,
   "metadata": {},
   "outputs": [],
   "source": [
    "class "
   ]
  },
  {
   "cell_type": "code",
   "execution_count": 7,
   "metadata": {},
   "outputs": [
    {
     "name": "stdout",
     "output_type": "stream",
     "text": [
      "{}\n",
      "{6: 10}\n",
      "{6: 10, 11: 5}\n",
      "{6: 10, 11: 5, 10: 6}\n",
      "{6: 10, 11: 5, 10: 6, 9: 7}\n",
      "{6: 10, 11: 5, 10: 6, 9: 7, 8: 8}\n",
      "{6: 10, 11: 5, 10: 6, 9: 7, 8: 8, -79: 95}\n"
     ]
    },
    {
     "data": {
      "text/plain": [
       "[10, 6]"
      ]
     },
     "execution_count": 7,
     "metadata": {},
     "output_type": "execute_result"
    }
   ],
   "source": [
    "class Solution:\n",
    "    def twosum(self , arr ,  target):\n",
    "        hash = {}\n",
    "        for i in range(len(arr)):\n",
    "            c = target - arr[i]\n",
    "            print(hash)\n",
    "            if c in hash : \n",
    "                return [hash[] , arr[i]]\n",
    "            \n",
    "            hash[c] = arr[i]\n",
    "            \n",
    "        \n",
    "        \n",
    "x = [10,5,6,7,8,95,6]\n",
    "target  = 16 \n",
    "s  = Solution()\n",
    "s.twosum(x ,target)\n",
    "        "
   ]
  },
  {
   "cell_type": "code",
   "execution_count": 10,
   "metadata": {},
   "outputs": [],
   "source": [
    "class Solution:\n",
    "    def findMin(self , nums, target):\n",
    "        left, right = 0, len(nums) - 1\n",
    "    \n",
    "        while left < right:\n",
    "            mid = left + (right - left) // 2\n",
    "            \n",
    "            if nums[mid] > target: \n",
    "                right = mid \n",
    "            elif  nums[mid] < target :\n",
    "                right = mid\n",
    "            else:\n",
    "                return mid\n",
    "            \n",
    "        return -1  \n",
    "\n",
    "nums = [4,5,6,7,0,1,2]\n",
    "target = 4        \n",
    "s =Solution() \n",
    "s.findMin(nums ,target)"
   ]
  }
 ],
 "metadata": {
  "kernelspec": {
   "display_name": "Python 3",
   "language": "python",
   "name": "python3"
  },
  "language_info": {
   "codemirror_mode": {
    "name": "ipython",
    "version": 3
   },
   "file_extension": ".py",
   "mimetype": "text/x-python",
   "name": "python",
   "nbconvert_exporter": "python",
   "pygments_lexer": "ipython3",
   "version": "3.9.13"
  },
  "orig_nbformat": 4
 },
 "nbformat": 4,
 "nbformat_minor": 2
}
