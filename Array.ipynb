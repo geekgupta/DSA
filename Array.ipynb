{
 "cells": [
  {
   "cell_type": "code",
   "execution_count": null,
   "id": "b36698e8",
   "metadata": {},
   "outputs": [],
   "source": [
    "Contain duplicate\n",
    "Given an integer array nums, return true if any value appears at least twice in the array, and return false if every element is distinct."
   ]
  },
  {
   "cell_type": "code",
   "execution_count": 39,
   "id": "84e82e38",
   "metadata": {},
   "outputs": [
    {
     "data": {
      "text/plain": [
       "False"
      ]
     },
     "execution_count": 39,
     "metadata": {},
     "output_type": "execute_result"
    }
   ],
   "source": [
    "nums =[1,2,3,4]\n",
    "\n",
    "\n",
    "class Solution:\n",
    "    def containsDuplicate(self, nums):\n",
    "        if len(nums) <= 1 : \n",
    "            return False\n",
    "        else:\n",
    "            i = 0\n",
    "            j = 1\n",
    "            seen = {} \n",
    "            for i in range(len(nums)) :\n",
    "                if nums[i] in seen : \n",
    "                    return True \n",
    "                seen[nums[i]] = nums[i] \n",
    "                    \n",
    "                \n",
    "                    \n",
    "                    \n",
    "        return False \n",
    "                 \n",
    "        \n",
    "s = Solution()\n",
    "s.containsDuplicate(nums)"
   ]
  },
  {
   "cell_type": "code",
   "execution_count": 38,
   "id": "25ad2cb3",
   "metadata": {},
   "outputs": [
    {
     "data": {
      "text/plain": [
       "True"
      ]
     },
     "execution_count": 38,
     "metadata": {},
     "output_type": "execute_result"
    }
   ],
   "source": [
    "Valid Anagram \n",
    "\n",
    "Given two strings s and t, return true if t is an anagram of s, and false otherwise.\n",
    "An Anagram is a word or phrase formed by rearranging the letters of a different word or phrase, typically using all the original letters exactly once.\n"
   ]
  },
  {
   "cell_type": "code",
   "execution_count": 47,
   "id": "3cc53df3",
   "metadata": {},
   "outputs": [
    {
     "name": "stdout",
     "output_type": "stream",
     "text": [
      "{'c': 3, 'a': 1} {'a': 2, 'c': 2}\n"
     ]
    },
    {
     "data": {
      "text/plain": [
       "False"
      ]
     },
     "execution_count": 47,
     "metadata": {},
     "output_type": "execute_result"
    }
   ],
   "source": [
    "class Solution:\n",
    "    def isAnagram(self, n: str, x: str) :\n",
    "        if len(n) != len(x):\n",
    "            return False\n",
    "        n1  = {} \n",
    "        for i in range(len(n)) :\n",
    "            if n[i] not in n1 : \n",
    "                n1[n[i]] = 0 \n",
    "            n1[n[i]] = n1[n[i]] + 1 \n",
    "        n2  = {} \n",
    "        for j in range(len(x)) :\n",
    "            if x[j] not in n2 : \n",
    "                n2[x[j]] = 0 \n",
    "            n2[x[j]] = n2[x[j]] + 1 \n",
    "            \n",
    "        print(n1 , n2)\n",
    "        \n",
    "        try:\n",
    "            for i in n :\n",
    "                if n1[i] != n2[i]:\n",
    "                    return False\n",
    "        except : \n",
    "            return False \n",
    "            \n",
    "            \n",
    "        \n",
    "            \n",
    "            \n",
    "        return True \n",
    "\n",
    "n = \"ccac\"\n",
    "x = \"aacc\"\n",
    "s = Solution()\n",
    "s.isAnagram(n , x)\n",
    "            \n",
    "        \n",
    "            "
   ]
  },
  {
   "cell_type": "code",
   "execution_count": 48,
   "id": "5bf449b9",
   "metadata": {},
   "outputs": [
    {
     "ename": "SyntaxError",
     "evalue": "invalid syntax (4188113926.py, line 1)",
     "output_type": "error",
     "traceback": [
      "\u001b[1;36m  Input \u001b[1;32mIn [48]\u001b[1;36m\u001b[0m\n\u001b[1;33m    Two Sum\u001b[0m\n\u001b[1;37m        ^\u001b[0m\n\u001b[1;31mSyntaxError\u001b[0m\u001b[1;31m:\u001b[0m invalid syntax\n"
     ]
    }
   ],
   "source": [
    "Two Sum \n",
    "Given an array of integers nums and an integer target, return indices of the two numbers such that they add up to target.\n",
    "You may assume that each input would have exactly one solution, and you may not use the same element twice.\n",
    "You can return the answer in any order."
   ]
  },
  {
   "cell_type": "code",
   "execution_count": 71,
   "id": "c490003b",
   "metadata": {},
   "outputs": [
    {
     "name": "stdout",
     "output_type": "stream",
     "text": [
      "0 0 4\n",
      "0 1 9\n"
     ]
    },
    {
     "data": {
      "text/plain": [
       "[0, 1]"
      ]
     },
     "execution_count": 71,
     "metadata": {},
     "output_type": "execute_result"
    }
   ],
   "source": [
    "class Solution:\n",
    "    def twoSum(self, nums, target):\n",
    "        l = []\n",
    "        if len(nums)<=1 :\n",
    "            l.append(0)\n",
    "            return l\n",
    "        else :\n",
    "            i = 0 \n",
    "            j = 0 \n",
    "            while i <= len(nums)-1 : \n",
    "                print(i , j , nums[i] + nums[j])\n",
    "                if (nums[i] + nums[j] == target) and (i != j):\n",
    "                    l.append(i)\n",
    "                    l.append(j)\n",
    "                    return l\n",
    "                elif j >= len(nums)-1: \n",
    "                    i = i +1 \n",
    "                    j = i+1\n",
    "                else : \n",
    "                    j = j + 1 \n",
    "                    \n",
    "                    \n",
    "        return []\n",
    "            \n",
    "        \n",
    "            \n",
    "        \n",
    "        \n",
    "        \n",
    "s  = Solution()\n",
    "s.twoSum([2,7,11,15], 9)\n"
   ]
  },
  {
   "cell_type": "code",
   "execution_count": 75,
   "id": "97995ec8",
   "metadata": {},
   "outputs": [
    {
     "name": "stdout",
     "output_type": "stream",
     "text": [
      "7 {}\n",
      "2 {2: 0}\n",
      "[0, 1]\n"
     ]
    }
   ],
   "source": [
    "Best solution from chatGPT\n",
    "def two_sum(nums, target):\n",
    "    # Create a dictionary to store the indices of numbers we've seen so far\n",
    "    num_indices = {}\n",
    "\n",
    "    for i, num in enumerate(nums):\n",
    "        complement = target - num\n",
    "        print(complement , num_indices)\n",
    "        if complement in num_indices:\n",
    "            # Return the indices of the two numbers that add up to the target\n",
    "            return [num_indices[complement], i]\n",
    "        # Store the index of the current number in the dictionary\n",
    "        num_indices[num] = i\n",
    "\n",
    "# Example usage\n",
    "nums = [2, 7, 11, 15]\n",
    "target = 9\n",
    "result = two_sum(nums, target)\n",
    "print(result)  # Output: [0, 1]\n"
   ]
  },
  {
   "cell_type": "code",
   "execution_count": 74,
   "id": "9a189f82",
   "metadata": {},
   "outputs": [
    {
     "name": "stdout",
     "output_type": "stream",
     "text": [
      "0 2\n",
      "1 7\n",
      "2 11\n",
      "3 15\n"
     ]
    }
   ],
   "source": [
    "Grouup Anagram\n"
   ]
  },
  {
   "cell_type": "code",
   "execution_count": null,
   "id": "8619672a",
   "metadata": {},
   "outputs": [],
   "source": [
    "Input: strs = [\"eat\",\"tea\",\"tan\",\"ate\",\"nat\",\"bat\"]\n",
    "Output: [[\"bat\"],[\"nat\",\"tan\"],[\"ate\",\"eat\",\"tea\"]]"
   ]
  },
  {
   "cell_type": "code",
   "execution_count": 99,
   "id": "f57edcad",
   "metadata": {},
   "outputs": [
    {
     "name": "stdout",
     "output_type": "stream",
     "text": [
      "aet\n",
      "aet\n",
      "ant\n",
      "aet\n",
      "ant\n",
      "abt\n"
     ]
    },
    {
     "data": {
      "text/plain": [
       "[['eat', 'tea', 'ate'], ['tan', 'nat'], ['bat']]"
      ]
     },
     "execution_count": 99,
     "metadata": {},
     "output_type": "execute_result"
    }
   ],
   "source": [
    "class Solution:\n",
    "    def groupAnagrams(self, strs):\n",
    "        anagram_groups = {}\n",
    "        for word in strs:\n",
    "            sorted_word = ''.join(sorted(word))\n",
    "            print(sorted_word)\n",
    "            if sorted_word in anagram_groups:\n",
    "                anagram_groups[sorted_word].append(word)\n",
    "            else:\n",
    "                anagram_groups[sorted_word] = [word]\n",
    "    \n",
    "        return list(anagram_groups.values()) \n",
    "\n",
    "strs = [\"eat\",\"tea\",\"tan\",\"ate\",\"nat\",\"bat\"]        \n",
    "s = Solution()\n",
    "s.groupAnagrams(strs)"
   ]
  },
  {
   "cell_type": "code",
   "execution_count": 88,
   "id": "e3165e57",
   "metadata": {},
   "outputs": [
    {
     "name": "stdout",
     "output_type": "stream",
     "text": [
      "aet\n",
      "aet\n",
      "ant\n",
      "aet\n",
      "ant\n",
      "abt\n",
      "[['eat', 'tea', 'ate'], ['tan', 'nat'], ['bat']]\n"
     ]
    }
   ],
   "source": [
    "def group_anagrams(strs):\n",
    "    anagram_groups = {}\n",
    "    \n",
    "    for word in strs:\n",
    "        sorted_word = ''.join(sorted(word))\n",
    "        print(sorted_word)\n",
    "        if sorted_word in anagram_groups:\n",
    "            anagram_groups[sorted_word].append(word)\n",
    "        else:\n",
    "            anagram_groups[sorted_word] = [word]\n",
    "    \n",
    "    return list(anagram_groups.values())\n",
    "\n",
    "# Example usage\n",
    "strs = [\"eat\", \"tea\", \"tan\", \"ate\", \"nat\", \"bat\"]\n",
    "result = group_anagrams(strs)\n",
    "print(result)  \n"
   ]
  },
  {
   "cell_type": "code",
   "execution_count": 91,
   "id": "4b0cd72a",
   "metadata": {},
   "outputs": [
    {
     "ename": "AttributeError",
     "evalue": "'str' object has no attribute 'append'",
     "output_type": "error",
     "traceback": [
      "\u001b[1;31m---------------------------------------------------------------------------\u001b[0m",
      "\u001b[1;31mAttributeError\u001b[0m                            Traceback (most recent call last)",
      "Input \u001b[1;32mIn [91]\u001b[0m, in \u001b[0;36m<cell line: 3>\u001b[1;34m()\u001b[0m\n\u001b[0;32m      1\u001b[0m x \u001b[38;5;241m=\u001b[39m {} \n\u001b[0;32m      2\u001b[0m x[\u001b[38;5;124m\"\u001b[39m\u001b[38;5;124mputu\u001b[39m\u001b[38;5;124m\"\u001b[39m] \u001b[38;5;241m=\u001b[39m \u001b[38;5;124m\"\u001b[39m\u001b[38;5;124mpuru\u001b[39m\u001b[38;5;124m\"\u001b[39m\n\u001b[1;32m----> 3\u001b[0m \u001b[43mx\u001b[49m\u001b[43m[\u001b[49m\u001b[38;5;124;43m\"\u001b[39;49m\u001b[38;5;124;43mputu\u001b[39;49m\u001b[38;5;124;43m\"\u001b[39;49m\u001b[43m]\u001b[49m\u001b[38;5;241;43m.\u001b[39;49m\u001b[43mappend\u001b[49m(\u001b[38;5;124m\"\u001b[39m\u001b[38;5;124mp\u001b[39m\u001b[38;5;124m\"\u001b[39m)\n\u001b[0;32m      5\u001b[0m x\n",
      "\u001b[1;31mAttributeError\u001b[0m: 'str' object has no attribute 'append'"
     ]
    }
   ],
   "source": [
    "Top K\n",
    "Given an integer array nums and an integer k, return the k most frequent elements. You may return the answer in any order.\n"
   ]
  },
  {
   "cell_type": "code",
   "execution_count": 32,
   "id": "38733ffc",
   "metadata": {},
   "outputs": [
    {
     "name": "stdout",
     "output_type": "stream",
     "text": [
      "{-1: 2, 1: 1, 2: 2, 3: 1, 4: 1} [-1, 2] {-1: 2, 2: 2, 1: 1, 3: 1, 4: 1} 2\n"
     ]
    },
    {
     "data": {
      "text/plain": [
       "[-1, 2]"
      ]
     },
     "execution_count": 32,
     "metadata": {},
     "output_type": "execute_result"
    }
   ],
   "source": [
    "class Solution:\n",
    "    def topKFrequent(self, nums ,  k) :\n",
    "        u = {}\n",
    "        l = []\n",
    "        if(len(nums) < k ):\n",
    "            return []\n",
    "        else : \n",
    "            nums.sort() \n",
    "            for i in range(len(nums)): \n",
    "                if nums[i] in u : \n",
    "                    u[nums[i]] = u[nums[i]] + 1 \n",
    "                else: \n",
    "                    u[nums[i]] = 1\n",
    "            sorted_dict = {p: v for p, v in sorted(u.items(), key=lambda item: item[1] , reverse=True)}\n",
    "            for i , e in enumerate(sorted_dict):\n",
    "                if i < k :\n",
    "                    l.append(e)\n",
    "\n",
    "                \n",
    "        print(u , l , sorted_dict , k)        \n",
    "        return l\n",
    "                \n",
    "        \n",
    "        \n",
    "\n",
    "nums = [4,1,-1,2,-1,2,3]\n",
    "\n",
    "k = 2\n",
    "S = Solution()\n",
    "S.topKFrequent(nums , k)"
   ]
  },
  {
   "cell_type": "code",
   "execution_count": 21,
   "id": "892d8ec3",
   "metadata": {},
   "outputs": [
    {
     "data": {
      "text/plain": [
       "[1, 3, 8, 9]"
      ]
     },
     "execution_count": 21,
     "metadata": {},
     "output_type": "execute_result"
    }
   ],
   "source": [
    "nums = [1,8,9,3]\n",
    "nums.sort()\n",
    "nums"
   ]
  },
  {
   "cell_type": "code",
   "execution_count": 33,
   "id": "8797e176",
   "metadata": {},
   "outputs": [
    {
     "data": {
      "text/plain": [
       "dict_items([(1, 3), (2, 2), (3, 1)])"
      ]
     },
     "execution_count": 33,
     "metadata": {},
     "output_type": "execute_result"
    }
   ],
   "source": [
    "x = {1: 3, 2: 2, 3: 1}\n",
    "x.items()"
   ]
  },
  {
   "cell_type": "code",
   "execution_count": 25,
   "id": "dc462369",
   "metadata": {},
   "outputs": [
    {
     "name": "stdout",
     "output_type": "stream",
     "text": [
      "banana 1\n",
      "cherry 2\n",
      "apple 3\n"
     ]
    }
   ],
   "source": [
    "my_dict = {\"apple\": 3, \"banana\": 1, \"cherry\": 2}\n",
    "\n",
    "# Sort the dictionary by values\n",
    "sorted_dict = {k: v for k, v in sorted(my_dict.items(), key=lambda item: item[1])}\n",
    "\n",
    "# Print the sorted dictionary\n",
    "for key, value in sorted_dict.items():\n",
    "    print(key, value)\n"
   ]
  },
  {
   "cell_type": "code",
   "execution_count": null,
   "id": "4fd1f30b",
   "metadata": {},
   "outputs": [],
   "source": [
    "Longest Consecutive element\n",
    "Given an unsorted array of integers nums, return the length of the longest consecutive elements sequence.\n",
    "\n",
    "You must write an algorithm that runs in O(n) time.\n",
    "\n"
   ]
  },
  {
   "cell_type": "code",
   "execution_count": 55,
   "id": "96b781fe",
   "metadata": {},
   "outputs": [
    {
     "name": "stdout",
     "output_type": "stream",
     "text": [
      "11\n",
      "[-1, 0, 1, 3, 4, 5, 6, 7, 8, 9]\n",
      "-1 0 -1\n",
      "0 1 -1\n",
      "1 3 -2\n",
      "3 4 -1\n",
      "4 5 -1\n",
      "5 6 -1\n",
      "6 7 -1\n",
      "7 8 -1\n",
      "8 9 -1\n"
     ]
    },
    {
     "data": {
      "text/plain": [
       "9"
      ]
     },
     "execution_count": 55,
     "metadata": {},
     "output_type": "execute_result"
    }
   ],
   "source": [
    "class Solution:\n",
    "    def longestConsecutive(self, nums):\n",
    "        \n",
    "        if len(nums) == 1 :\n",
    "            return 1\n",
    "        elif len(nums) < 1 :\n",
    "            return 0 \n",
    "        else: \n",
    "            nums = list(set(nums))\n",
    "            nums.sort()\n",
    "            v = 1 \n",
    "            print(nums)\n",
    "            for i in range(len(nums)) :\n",
    "                if (i < len(nums)-1):\n",
    "                    print(nums[i] , nums[i+1] , nums[i] - nums[i+1])\n",
    "                    if(nums[i] - nums[i+1] == -1):\n",
    "                        v = v + 1 \n",
    "                    \n",
    "        return v \n",
    "                \n",
    "       \n",
    "            \n",
    "        \n",
    "\n",
    "        \n",
    "nums = [9,1,4,7,3,-1,0,5,8,-1,6]\n",
    "print(len(nums))\n",
    "\n",
    "\n",
    "S= Solution()\n",
    "S.longestConsecutive(nums)\n",
    "        \n",
    "        \n",
    "        "
   ]
  },
  {
   "cell_type": "code",
   "execution_count": 39,
   "id": "ac8aabd6",
   "metadata": {},
   "outputs": [
    {
     "data": {
      "text/plain": [
       "[1, 2, 3, 100, 4, 200, 500]"
      ]
     },
     "execution_count": 39,
     "metadata": {},
     "output_type": "execute_result"
    }
   ],
   "source": [
    "list(set(nums))"
   ]
  },
  {
   "cell_type": "code",
   "execution_count": 5,
   "id": "998a98a0",
   "metadata": {},
   "outputs": [
    {
     "name": "stdout",
     "output_type": "stream",
     "text": [
      "[-1, 0, 1, 3, 4, 5, 6, 7, 8, 9]\n",
      "0 -1\n",
      "if 2\n",
      "1 0\n",
      "if 3\n",
      "3 1\n",
      "else 3 1 3 1\n",
      "4 3\n",
      "if 2\n",
      "5 4\n",
      "if 3\n",
      "6 5\n",
      "if 4\n",
      "7 6\n",
      "if 5\n",
      "8 7\n",
      "if 6\n",
      "9 8\n",
      "if 7\n",
      "7\n"
     ]
    }
   ],
   "source": [
    "class Solution:\n",
    "    def longestConsecutive(self, nums):\n",
    "        if len(nums) <= 1:\n",
    "            return len(nums)\n",
    "        \n",
    "        nums = list(set(nums))\n",
    "        nums.sort()\n",
    "        \n",
    "        longest_streak = 1\n",
    "        current_streak = 1\n",
    "        print(nums)\n",
    "        for i in range(1, len(nums)):\n",
    "            print(nums[i] , nums[i-1])\n",
    "            if nums[i] == nums[i - 1] + 1:\n",
    "                current_streak += 1\n",
    "                print(\"if\" , current_streak)\n",
    "            else:\n",
    "                longest_streak = max(longest_streak, current_streak)\n",
    "                current_streak = 1\n",
    "                print(\"else\" , nums[i] , nums[i-1] , longest_streak ,  current_streak)\n",
    "                \n",
    "        return max(longest_streak, current_streak)\n",
    "\n",
    "nums = [9, 1, 4, 7, 3, -1, 0, 5, 8, -1, 6]\n",
    "S = Solution()\n",
    "print(S.longestConsecutive(nums))\n"
   ]
  },
  {
   "cell_type": "code",
   "execution_count": null,
   "id": "37a8c5ae",
   "metadata": {},
   "outputs": [],
   "source": [
    "product of an array except self"
   ]
  },
  {
   "cell_type": "code",
   "execution_count": 23,
   "id": "833edd44",
   "metadata": {},
   "outputs": [
    {
     "name": "stdout",
     "output_type": "stream",
     "text": [
      "{1: 1, 2: 1, 3: 1, 4: 1}\n",
      "1 1 1\n",
      "2 1 1\n",
      "3 1 2\n",
      "4 1 6\n",
      "1 1 1\n",
      "2 1 1\n",
      "3 1 2\n",
      "4 1 6\n",
      "1 1 1\n",
      "2 1 1\n",
      "3 1 2\n",
      "4 1 6\n",
      "1 1 1\n",
      "2 1 1\n",
      "3 1 2\n",
      "4 1 6\n",
      "{1: 1, 2: 1, 3: 1, 4: 1} [24, 24, 24, 24]\n"
     ]
    }
   ],
   "source": [
    "class Solution:\n",
    "    def productExceptSelf(self, nums):\n",
    "        u = {}\n",
    "        if len(nums) <= 1 :\n",
    "            return 1 \n",
    "        else :\n",
    "            for i in range(len(nums)):\n",
    "                if nums[i] in u : \n",
    "                    u[nums[i]] = u[nums[i]]+1\n",
    "                    \n",
    "                u[nums[i]] = 1\n",
    "                \n",
    "            l = [] \n",
    "            print(u)\n",
    "            for i in range(len(nums)):\n",
    "                s = 1\n",
    "                for a , b in u.items():\n",
    "                    p = 1 \n",
    "                    print(a ,b ,s )\n",
    "                    if nums[i] == u[nums[i]] : \n",
    "                        if u[nums[i]] - 1 != 0 :\n",
    "                            p = u[nums[i]] -1\n",
    "                            print(\"if\")\n",
    "                            \n",
    "                    s = s*a*b*p\n",
    "                    \n",
    "                l.append(s)\n",
    "                    \n",
    "                \n",
    "                \n",
    "        print(u , l)\n",
    "        \n",
    "        \n",
    "\n",
    "        \n",
    "        \n",
    "nums = [1,2,3,4]        \n",
    "s = Solution()\n",
    "s.productExceptSelf(nums)"
   ]
  },
  {
   "cell_type": "code",
   "execution_count": 46,
   "id": "5f276608",
   "metadata": {},
   "outputs": [
    {
     "name": "stdout",
     "output_type": "stream",
     "text": [
      "amanaplanacanalpanama xx amanaplanacanalpanama\n"
     ]
    },
    {
     "data": {
      "text/plain": [
       "True"
      ]
     },
     "execution_count": 46,
     "metadata": {},
     "output_type": "execute_result"
    }
   ],
   "source": [
    "class Solution:\n",
    "    def isPalindrome(self, s):\n",
    "        if len(s) <= 1 : \n",
    "            return True \n",
    "        else :\n",
    "            forword = \"\"\n",
    "            for i in s :\n",
    "                if i.lower().isalpha  and i != \" \" and i.isalnum() == True :\n",
    "                    forword = forword + i.lower()\n",
    "            backword = \"\"\n",
    "            for i in range(len(forword)-1 , -1 , -1):\n",
    "                backword = backword + forword[i]\n",
    "\n",
    "\n",
    "            print(forword ,\"xx\" ,  backword)\n",
    "            if forword == backword :\n",
    "                return True \n",
    "            else : \n",
    "                return False\n",
    "\n",
    "strx = \"A man, a plan, a canal: Panama\"\n",
    "s = Solution()\n",
    "s.isPalindrome(strx)"
   ]
  },
  {
   "cell_type": "code",
   "execution_count": 44,
   "id": "84b82d33",
   "metadata": {},
   "outputs": [
    {
     "name": "stdout",
     "output_type": "stream",
     "text": [
      "no 0\n",
      "yess 1\n",
      "2 1\n",
      "3 2\n",
      "[1, 1, 2, 6]\n",
      "1 ----------\n",
      "0 ----------\n",
      "[6, 12, 8, 6]\n"
     ]
    }
   ],
   "source": [
    "class Solution:\n",
    "    def productExceptSelf(self, nums):\n",
    "        p = []\n",
    "        if len(nums) <= 1 :\n",
    "            return 1 \n",
    "        else :\n",
    "            #forward\n",
    "            for i in range(len(nums)) : \n",
    "                if i == 0 : \n",
    "                    print(\"no\" , i)\n",
    "                    p.append(1)\n",
    "                    \n",
    "                elif i == 1 :\n",
    "                    print(\"yess\", i)\n",
    "                    p.append(nums[i-1]*1)\n",
    "                    \n",
    "                else:\n",
    "                    print(i , i-1)\n",
    "                    p.append(nums[i-1]*nums[i-2])\n",
    "                    \n",
    "            #backward \n",
    "            print(p)\n",
    "            \n",
    "            for i in range(len(nums)-1 , -1 , -1):\n",
    "                \n",
    "                if i == len(nums)-1: \n",
    "                    p[i] = 1*p[i]\n",
    "                elif i == len(nums)-2:\n",
    "                    p[i] = p[i]*nums[i+1]\n",
    "              \n",
    "                else:\n",
    "                    print(i , \"----------\")\n",
    "                    p[i] = nums[i+1]*nums[i+2]\n",
    "                    \n",
    "                    \n",
    "        \n",
    "                    \n",
    "                    \n",
    "            print(p)\n",
    "                    \n",
    "                \n",
    "                \n",
    "           \n",
    "\n",
    "        \n",
    "        \n",
    "\n",
    "nums = [1,2,3,4]        \n",
    "s = Solution()\n",
    "s.productExceptSelf(nums)\n",
    "        "
   ]
  },
  {
   "cell_type": "code",
   "execution_count": 33,
   "id": "3f061bd2",
   "metadata": {},
   "outputs": [
    {
     "name": "stdout",
     "output_type": "stream",
     "text": [
      "[1, 2, '_']\n"
     ]
    },
    {
     "data": {
      "text/plain": [
       "2"
      ]
     },
     "execution_count": 33,
     "metadata": {},
     "output_type": "execute_result"
    }
   ],
   "source": [
    "class Solution:\n",
    "    def removeDuplicates(self, nums) :\n",
    "        l = len(nums)\n",
    "        u = {}\n",
    "        f = [] \n",
    "        if l < 1 :\n",
    "            return 0\n",
    "        elif l == 1 : \n",
    "            return 1 \n",
    "        else :\n",
    "            for i in range(l):\n",
    "                if nums[i] in u :\n",
    "                    pass\n",
    "                else :\n",
    "                    u[nums[i]] = nums[i]\n",
    "                    f.append(nums[i])\n",
    "                nums[i] = \"_\"\n",
    "            \n",
    "        \n",
    "        nums = f[:len(f)] + nums[len(f):]\n",
    "        print(nums)\n",
    "        return len(f)\n",
    "                    \n",
    "            \n",
    "s =Solution()\n",
    "s.removeDuplicates([1,1,2])\n",
    "        "
   ]
  },
  {
   "cell_type": "code",
   "execution_count": 26,
   "id": "dacfdc73",
   "metadata": {},
   "outputs": [
    {
     "data": {
      "text/plain": [
       "[1, 8, 9, 6]"
      ]
     },
     "execution_count": 26,
     "metadata": {},
     "output_type": "execute_result"
    }
   ],
   "source": [
    "  Best Time to Buy and Sell Stock II\n"
   ]
  },
  {
   "cell_type": "code",
   "execution_count": 38,
   "id": "d857d7d9",
   "metadata": {},
   "outputs": [
    {
     "name": "stdout",
     "output_type": "stream",
     "text": [
      "2 5 1\n",
      "4 6 3\n",
      "7\n"
     ]
    }
   ],
   "source": [
    "def maxProfit(prices):\n",
    "    if not prices or len(prices) == 1:\n",
    "        return 0\n",
    "    \n",
    "    totalProfit = 0\n",
    "    \n",
    "    for i in range(1, len(prices)):\n",
    "        if prices[i] > prices[i-1]:\n",
    "            print(i, prices[i] , prices[i-1])\n",
    "            totalProfit += prices[i] - prices[i-1]\n",
    "    \n",
    "    return totalProfit\n",
    "prices = [7, 1, 5, 3, 6, 4]\n",
    "profit = maxProfit(prices)\n",
    "print(profit)  # This will output the maximum profit achievable\n",
    "\n",
    "\n",
    "\n"
   ]
  },
  {
   "cell_type": "code",
   "execution_count": 77,
   "id": "fd1bc5d0",
   "metadata": {},
   "outputs": [
    {
     "data": {
      "text/plain": [
       "-1"
      ]
     },
     "execution_count": 77,
     "metadata": {},
     "output_type": "execute_result"
    }
   ],
   "source": [
    "class Solution(object):\n",
    "    def singleNumber(self, nums):\n",
    "        l = len(nums)\n",
    "        u = {}\n",
    "       \n",
    "        if l < 1 :\n",
    "            return 0\n",
    "        elif l == 1 : \n",
    "            return nums[0]\n",
    "        else :\n",
    "            for i in range(l):\n",
    "                if nums[i] in u :\n",
    "                    u[nums[i]] = u[nums[i]] + 1 \n",
    "                else :\n",
    "                    u[nums[i]] = 1\n",
    "       \n",
    "        for k , v  in u.items() :\n",
    "            if v  == 1 :\n",
    "                return k\n",
    "        \n",
    "s =Solution()\n",
    "s.singleNumber([-1])\n",
    "                \n",
    "                    "
   ]
  },
  {
   "cell_type": "code",
   "execution_count": 1,
   "id": "58398626",
   "metadata": {},
   "outputs": [],
   "source": [
    "nums = [1,2,3,4,5,6] "
   ]
  },
  {
   "cell_type": "code",
   "execution_count": 2,
   "id": "02cd9bf4",
   "metadata": {},
   "outputs": [
    {
     "data": {
      "text/plain": [
       "[6, 5, 4, 3, 2, 1]"
      ]
     },
     "execution_count": 2,
     "metadata": {},
     "output_type": "execute_result"
    }
   ],
   "source": [
    "Longest Palindrome Sub string \n"
   ]
  },
  {
   "cell_type": "code",
   "execution_count": 20,
   "id": "a5a87f75",
   "metadata": {},
   "outputs": [
    {
     "name": "stdout",
     "output_type": "stream",
     "text": [
      "0 4\n"
     ]
    },
    {
     "data": {
      "text/plain": [
       "'a'"
      ]
     },
     "execution_count": 20,
     "metadata": {},
     "output_type": "execute_result"
    }
   ],
   "source": [
    "class Solution(object):\n",
    "    def longestPalindrome(self, s):\n",
    "        if(len(s)<1):\n",
    "            return \"\"\n",
    "        elif((len(s)==2) and (s[0] != s[1])):\n",
    "            return s[0]\n",
    "        elif(len(s) == 1):\n",
    "            return s\n",
    "        u = []\n",
    "        f = [] \n",
    "        for  i in range(len(s)):\n",
    "            for j in range(i ,len(s)):\n",
    "                if i == j : \n",
    "                    pass\n",
    "                else: \n",
    "                    if s[i] == s[j]:\n",
    "                        print(i , j)\n",
    "                       \n",
    "                        fw = s[i:j+1]\n",
    "                        bw = fw[::-1]\n",
    "                        if fw == bw and fw != '' : \n",
    "                            f.append(fw)\n",
    "                        \n",
    "        \n",
    "                \n",
    "        if(len(f)>=1):\n",
    "            return max(f, key=len)\n",
    "        else:\n",
    "            return s[0]\n",
    "                        \n",
    "       \n",
    "s = Solution()\n",
    "x = \"abcda\"\n",
    "s.longestPalindrome(x)"
   ]
  },
  {
   "cell_type": "code",
   "execution_count": 9,
   "id": "67e9503e",
   "metadata": {},
   "outputs": [
    {
     "data": {
      "text/plain": [
       "'ba'"
      ]
     },
     "execution_count": 9,
     "metadata": {},
     "output_type": "execute_result"
    }
   ],
   "source": [
    "x = \"babad\"\n",
    "x[0:2]"
   ]
  },
  {
   "cell_type": "code",
   "execution_count": null,
   "id": "69bc056b",
   "metadata": {},
   "outputs": [],
   "source": [
    "class Solution(object):\n",
    "    def longestPalindrome(self, s):\n",
    "        if(len(s)<1):\n",
    "            return \"\"\n",
    "        elif((len(s)==2) and (s[0] != s[1])):\n",
    "            return s[0]\n",
    "        elif(len(s) == 1):\n",
    "            return s\n",
    "        p = []\n",
    "        for i in range(len(s)) :\n",
    "            pax = s[i]\n",
    "            for j in s[i+1:]:\n",
    "                pax = pax +j\n",
    "                if(pax == pax[::-1]):\n",
    "                    p.append(pax)\n",
    "                \n",
    "        if(len(p)>=1):\n",
    "            return max(p, key=len)\n",
    "        else:\n",
    "            return s[0]\n"
   ]
  },
  {
   "cell_type": "code",
   "execution_count": null,
   "id": "5c3db724",
   "metadata": {},
   "outputs": [],
   "source": [
    "Regular expresion "
   ]
  },
  {
   "cell_type": "code",
   "execution_count": 21,
   "id": "4f544639",
   "metadata": {},
   "outputs": [
    {
     "name": "stdout",
     "output_type": "stream",
     "text": [
      "\n",
      "\n",
      "\n",
      "a*b*c*\n"
     ]
    }
   ],
   "source": [
    "class Solution(object):\n",
    "    def isMatch(self, s , p):\n",
    "        fx = ''\n",
    "        for i in range(len(s)):\n",
    "            x = 0\n",
    "            f = ''\n",
    "            for j in range(i+1 , len(s)):\n",
    "                if s[i] == s[j]:\n",
    "                    x = x + 1 \n",
    "                    if x >=1 and f != s[i]+\"*\":\n",
    "                        print(f)\n",
    "                        f = f + s[i]+\"*\"\n",
    "                  \n",
    "            fx = fx+f\n",
    "        print(fx)\n",
    "                    \n",
    "                    \n",
    "                    \n",
    "        \n",
    "e = \"aabbccd\"\n",
    "p = \"a*\"\n",
    "s = Solution()\n",
    "s.isMatch(e , p)\n",
    "\n",
    "        "
   ]
  },
  {
   "cell_type": "code",
   "execution_count": 23,
   "id": "f3fbfcfa",
   "metadata": {},
   "outputs": [
    {
     "data": {
      "text/plain": [
       "4.4"
      ]
     },
     "execution_count": 23,
     "metadata": {},
     "output_type": "execute_result"
    }
   ],
   "source": [
    "22/5"
   ]
  },
  {
   "cell_type": "code",
   "execution_count": null,
   "id": "3d6ddbbf",
   "metadata": {},
   "outputs": [],
   "source": [
    "Input: strs = [\"flower\",\"flow\",\"flight\"]\n",
    "Output: \"fl\""
   ]
  },
  {
   "cell_type": "code",
   "execution_count": 132,
   "id": "b336cc7c",
   "metadata": {},
   "outputs": [
    {
     "data": {
      "text/plain": [
       "''"
      ]
     },
     "execution_count": 132,
     "metadata": {},
     "output_type": "execute_result"
    }
   ],
   "source": [
    "class Solution(object):\n",
    "    def longestCommonPrefix(self, strs):\n",
    "        if len(strs) < 1 :\n",
    "            return ''\n",
    "        elif len(strs) == 1 :  \n",
    "            return strs[0]\n",
    "        elif strs[0] == '':\n",
    "            return ''\n",
    "    \n",
    "        p = 0 \n",
    "        f = {}\n",
    "        i = 0 \n",
    "        ii = 1\n",
    "        lix = [] \n",
    "        while i < len(strs) :\n",
    "            sub = ''\n",
    "            \n",
    "            for x in strs[i]:\n",
    "                if ii < len(strs):\n",
    "                    try :\n",
    "                        if strs[i][0] == strs[ii][0]:\n",
    "                            sub = sub + x\n",
    "                            if sub == strs[ii]:\n",
    "                                if sub in f :\n",
    "                                    f[sub] = f[sub]+1\n",
    "                                else:\n",
    "                                    f[sub] = 1 \n",
    "                        else:\n",
    "\n",
    "                             return ''\n",
    "                    except: \n",
    "                        return ''\n",
    "                       \n",
    "            if ii > len(strs):\n",
    "                i = i + 1 \n",
    "                ii = i+1 \n",
    "            else:\n",
    "                ii = ii + 1\n",
    "             \n",
    "    \n",
    "        max_key = ''\n",
    "        max_value = float('-inf')\n",
    "        print(\"-\" , max_key , f)\n",
    "        for key, value in f.items():\n",
    "            if value > max_value:\n",
    "                max_value = value\n",
    "                max_key = key\n",
    "            elif value == max_value and len(key) > len(max_key):\n",
    "                max_key = key\n",
    "                \n",
    "        if max_value >= len(strs)-1:\n",
    "            return max_key\n",
    "\n",
    "        \n",
    "        return '' \n",
    "    \n",
    "                 \n",
    "        \n",
    "                \n",
    "      \n",
    "        \n",
    "i = [\"\",\"cbc\",\"c\",\"ca\"]\n",
    "\n",
    "\n",
    "\n",
    "\n",
    "\n",
    "\n",
    "\n",
    "\n",
    "s = Solution()\n",
    "s.longestCommonPrefix(i)"
   ]
  },
  {
   "cell_type": "code",
   "execution_count": 93,
   "id": "ca1d5d91",
   "metadata": {},
   "outputs": [
    {
     "name": "stdout",
     "output_type": "stream",
     "text": [
      "Key with max value, or max length if values are same: fl\n"
     ]
    }
   ],
   "source": [
    "data = {'f': 3, 'fl': 3, 'flo': 1, 'flow': 1}\n",
    "\n",
    "max_key = None\n",
    "max_value = float('-inf')\n",
    "\n",
    "for key, value in data.items():\n",
    "    if value > max_value:\n",
    "        max_value = value\n",
    "        max_key = key\n",
    "    elif value == max_value and len(key) > len(max_key):\n",
    "        max_key = key\n",
    "\n",
    "print(\"Key with max value, or max length if values are same:\", max_key)\n"
   ]
  },
  {
   "cell_type": "code",
   "execution_count": 133,
   "id": "0546f4c7",
   "metadata": {},
   "outputs": [
    {
     "name": "stdout",
     "output_type": "stream",
     "text": [
      "- \n",
      "xxxxxxx fl\n"
     ]
    },
    {
     "data": {
      "text/plain": [
       "'fl'"
      ]
     },
     "execution_count": 133,
     "metadata": {},
     "output_type": "execute_result"
    }
   ],
   "source": [
    "class Solution(object):\n",
    "    def longestCommonPrefix(self, strs):\n",
    "        if len(strs) < 1 :\n",
    "            return ''\n",
    "        elif len(strs) == 1 :  \n",
    "            return strs[0]\n",
    "        p = 0 \n",
    "        f = {}\n",
    "        i = 0 \n",
    "        ii = 1\n",
    "        lix = [] \n",
    "        while i < len(strs) :\n",
    "            sub = ''\n",
    "            \n",
    "            for x in strs[i]:\n",
    "                if ii < len(strs):\n",
    "                    sub = sub + x\n",
    "                    if sub in strs[ii]:\n",
    "                        \n",
    "                        if sub in f :\n",
    "                            f[sub] = f[sub]+1\n",
    "                        else:\n",
    "                            f[sub] = 1 \n",
    "                       \n",
    "            if ii > len(strs):\n",
    "                i = i + 1 \n",
    "                ii = i+1 \n",
    "            else:\n",
    "                ii = ii + 1\n",
    "             \n",
    "    \n",
    "        max_key = ''\n",
    "        max_value = float('-inf')\n",
    "        print(\"-\" , max_key)\n",
    "        for key, value in data.items():\n",
    "            if value > max_value:\n",
    "                max_value = value\n",
    "                max_key = key\n",
    "            elif value == max_value and len(key) > len(max_key):\n",
    "                max_key = key\n",
    "\n",
    "        print(\"xxxxxxx\" , max_key)\n",
    "        return max_key \n",
    "\n",
    "i = [\"dog\",\"racecar\",\"car\"]\n",
    "s = Solution()\n",
    "s.longestCommonPrefix(i)"
   ]
  },
  {
   "cell_type": "code",
   "execution_count": 1,
   "id": "342d8fe9",
   "metadata": {},
   "outputs": [
    {
     "ename": "SyntaxError",
     "evalue": "invalid syntax (3701499286.py, line 1)",
     "output_type": "error",
     "traceback": [
      "\u001b[1;36m  Input \u001b[1;32mIn [1]\u001b[1;36m\u001b[0m\n\u001b[1;33m    Two sum 11\u001b[0m\n\u001b[1;37m        ^\u001b[0m\n\u001b[1;31mSyntaxError\u001b[0m\u001b[1;31m:\u001b[0m invalid syntax\n"
     ]
    }
   ],
   "source": [
    "Two sum 11 \n"
   ]
  },
  {
   "cell_type": "code",
   "execution_count": 26,
   "id": "e757444e",
   "metadata": {},
   "outputs": [
    {
     "name": "stdout",
     "output_type": "stream",
     "text": [
      "0 1\n",
      "0 2\n",
      "1 2\n"
     ]
    },
    {
     "data": {
      "text/plain": [
       "[2, 3]"
      ]
     },
     "execution_count": 26,
     "metadata": {},
     "output_type": "execute_result"
    }
   ],
   "source": [
    "class Solution(object):\n",
    "    def twoSum(self, numbers, target):\n",
    "        if len(numbers) <= 1 : \n",
    "            return [] \n",
    "        s = 0 \n",
    "        i = 0 \n",
    "        j = i + 1 \n",
    "        while i < len(numbers):\n",
    "            ss = target-numbers[i] \n",
    "            s = (ss)*-1 if ss < 0  else ss \n",
    "            print(i , j)\n",
    "            if ss == numbers[j]:\n",
    "                return [i+1 , j+1]\n",
    "            elif j >= len(numbers)-1:\n",
    "               \n",
    "                i = i + 1 \n",
    "                j = i + 1\n",
    "            else:\n",
    "                j = j +1 \n",
    "\n",
    "                \n",
    "numbers = [5,25,75]\n",
    "\n",
    "target = 100\n",
    "s = Solution()\n",
    "s.twoSum(numbers , target)\n",
    "            \n",
    "      "
   ]
  },
  {
   "cell_type": "code",
   "execution_count": 34,
   "id": "bd3b2981",
   "metadata": {},
   "outputs": [
    {
     "data": {
      "text/plain": [
       "[2, 3]"
      ]
     },
     "execution_count": 34,
     "metadata": {},
     "output_type": "execute_result"
    }
   ],
   "source": [
    "class Solution(object):\n",
    "    def twoSum(self, numbers, target):\n",
    "        if len(numbers) <= 1 : \n",
    "            return [] \n",
    "        r = 0 \n",
    "        l = len(numbers)-1 \n",
    "         \n",
    "        while r < l:\n",
    "            if numbers[r] + numbers[l] > target : \n",
    "                l = l - 1 \n",
    "            elif numbers[r] + numbers[l] < target : \n",
    "                r = r + 1 \n",
    "            else :\n",
    "                 return [r+1 , l+1]\n",
    "                \n",
    "\n",
    "                \n",
    "numbers = [5,25,75]\n",
    "\n",
    "target = 100\n",
    "s = Solution()\n",
    "s.twoSum(numbers , target)\n",
    "            \n",
    "      "
   ]
  },
  {
   "cell_type": "code",
   "execution_count": null,
   "id": "550eb79b",
   "metadata": {},
   "outputs": [],
   "source": [
    "# 3 sum"
   ]
  },
  {
   "cell_type": "code",
   "execution_count": 48,
   "id": "ea37c3c8",
   "metadata": {},
   "outputs": [
    {
     "name": "stdout",
     "output_type": "stream",
     "text": [
      "0 1 5 [] 6 []\n",
      "0 2 5 [] 6 []\n",
      "0 3 5 [] 6 []\n",
      "0 4 5 [] 6 []\n",
      "0 5 5 [] 6 []\n",
      "if\n"
     ]
    },
    {
     "ename": "TypeError",
     "evalue": "list.append() takes exactly one argument (3 given)",
     "output_type": "error",
     "traceback": [
      "\u001b[1;31m---------------------------------------------------------------------------\u001b[0m",
      "\u001b[1;31mTypeError\u001b[0m                                 Traceback (most recent call last)",
      "Input \u001b[1;32mIn [48]\u001b[0m, in \u001b[0;36m<cell line: 33>\u001b[1;34m()\u001b[0m\n\u001b[0;32m     31\u001b[0m nums \u001b[38;5;241m=\u001b[39m [\u001b[38;5;241m-\u001b[39m\u001b[38;5;241m1\u001b[39m,\u001b[38;5;241m0\u001b[39m,\u001b[38;5;241m1\u001b[39m,\u001b[38;5;241m2\u001b[39m,\u001b[38;5;241m-\u001b[39m\u001b[38;5;241m1\u001b[39m,\u001b[38;5;241m-\u001b[39m\u001b[38;5;241m4\u001b[39m]\n\u001b[0;32m     32\u001b[0m s \u001b[38;5;241m=\u001b[39m Solution()\n\u001b[1;32m---> 33\u001b[0m \u001b[43ms\u001b[49m\u001b[38;5;241;43m.\u001b[39;49m\u001b[43mthreeSum\u001b[49m\u001b[43m(\u001b[49m\u001b[43mnums\u001b[49m\u001b[43m)\u001b[49m\n",
      "Input \u001b[1;32mIn [48]\u001b[0m, in \u001b[0;36mSolution.threeSum\u001b[1;34m(self, numbers)\u001b[0m\n\u001b[0;32m     13\u001b[0m \u001b[38;5;28;01mif\u001b[39;00m numbers[i] \u001b[38;5;241m+\u001b[39m numbers[r] \u001b[38;5;241m+\u001b[39m numbers[l] \u001b[38;5;241m==\u001b[39m \u001b[38;5;241m0\u001b[39m \u001b[38;5;129;01mand\u001b[39;00m numbers[i] \u001b[38;5;129;01mnot\u001b[39;00m \u001b[38;5;129;01min\u001b[39;00m a :\n\u001b[0;32m     14\u001b[0m     \u001b[38;5;28mprint\u001b[39m(\u001b[38;5;124m\"\u001b[39m\u001b[38;5;124mif\u001b[39m\u001b[38;5;124m\"\u001b[39m)\n\u001b[1;32m---> 15\u001b[0m     \u001b[43mf\u001b[49m\u001b[38;5;241;43m.\u001b[39;49m\u001b[43mappend\u001b[49m\u001b[43m(\u001b[49m\u001b[43mnumbers\u001b[49m\u001b[43m[\u001b[49m\u001b[43mi\u001b[49m\u001b[43m]\u001b[49m\u001b[43m \u001b[49m\u001b[43m,\u001b[49m\u001b[43m \u001b[49m\u001b[43mnumbers\u001b[49m\u001b[43m[\u001b[49m\u001b[43mr\u001b[49m\u001b[43m]\u001b[49m\u001b[43m \u001b[49m\u001b[43m,\u001b[49m\u001b[43m \u001b[49m\u001b[43mnumbers\u001b[49m\u001b[43m[\u001b[49m\u001b[43ml\u001b[49m\u001b[43m]\u001b[49m\u001b[43m)\u001b[49m\n\u001b[0;32m     16\u001b[0m     i \u001b[38;5;241m=\u001b[39m i \u001b[38;5;241m+\u001b[39m \u001b[38;5;241m1\u001b[39m \n\u001b[0;32m     17\u001b[0m     l \u001b[38;5;241m=\u001b[39m \u001b[38;5;28mlen\u001b[39m(numbers) \u001b[38;5;241m-\u001b[39m \u001b[38;5;241m1\u001b[39m \n",
      "\u001b[1;31mTypeError\u001b[0m: list.append() takes exactly one argument (3 given)"
     ]
    }
   ],
   "source": [
    "class Solution(object):\n",
    "    def threeSum(self, numbers):\n",
    "        if len(numbers) <= 1 : \n",
    "            return []\n",
    "        numbers.sort()\n",
    "        f = []\n",
    "        a = [] \n",
    "        i = 0\n",
    "        l = len(numbers)-1 \n",
    "        r = i + 1 \n",
    "        while i < len(numbers) :\n",
    "            print(i , r , l , a , len(numbers) , f)\n",
    "            if numbers[i] + numbers[r] + numbers[l] == 0 and numbers[i] not in a :\n",
    "                print(\"if\")\n",
    "                f.append(numbers[i] , numbers[r] , numbers[l])\n",
    "                i = i + 1 \n",
    "                l = len(numbers) - 1 \n",
    "                \n",
    "            elif numbers[i] + numbers[r] + numbers[l] > target : \n",
    "                l = l - 1 \n",
    "            elif numbers[i] + numbers[r] + numbers[l] < target : \n",
    "                if r < l : \n",
    "                    r = r + 1 \n",
    "          \n",
    "                 \n",
    "            \n",
    "        \n",
    "\n",
    "\n",
    "\n",
    "nums = [-1,0,1,2,-1,-4]\n",
    "s = Solution()\n",
    "s.threeSum(nums)\n",
    "            \n",
    "      \n",
    "        "
   ]
  },
  {
   "cell_type": "code",
   "execution_count": 50,
   "id": "a6651777",
   "metadata": {},
   "outputs": [
    {
     "ename": "SyntaxError",
     "evalue": "invalid syntax (1887844656.py, line 1)",
     "output_type": "error",
     "traceback": [
      "\u001b[1;36m  Input \u001b[1;32mIn [50]\u001b[1;36m\u001b[0m\n\u001b[1;33m    container with most water\u001b[0m\n\u001b[1;37m              ^\u001b[0m\n\u001b[1;31mSyntaxError\u001b[0m\u001b[1;31m:\u001b[0m invalid syntax\n"
     ]
    }
   ],
   "source": [
    "container with most water "
   ]
  },
  {
   "cell_type": "code",
   "execution_count": 60,
   "id": "a9b82128",
   "metadata": {},
   "outputs": [
    {
     "name": "stdout",
     "output_type": "stream",
     "text": [
      "if  0 6\n",
      "if  1 6\n",
      "if  2 6\n",
      "else  3 6\n",
      "elif  4 6\n",
      "elif  4 5\n"
     ]
    },
    {
     "data": {
      "text/plain": [
       "24"
      ]
     },
     "execution_count": 60,
     "metadata": {},
     "output_type": "execute_result"
    }
   ],
   "source": [
    "class Solution(object):\n",
    "    def maxArea(self, height):\n",
    "        l = 0 \n",
    "        r = len(height)-1 \n",
    "        max_height = 0\n",
    "        while l < r : \n",
    "            \n",
    "            if height[l] < height[r]:\n",
    "               \n",
    "                product = height[l]* len(height[l:r])\n",
    "                l = l + 1 \n",
    "                if product > max_height : \n",
    "                    max_height = product\n",
    "                \n",
    "            elif height[l] > height[r]:\n",
    "               \n",
    "                product = height[r]* len(height[l:r])\n",
    "                r = r -1\n",
    "                if product > max_height : \n",
    "                    max_height = product\n",
    "            else : \n",
    "              \n",
    "                product = height[r]* len(height[l:r])\n",
    "                if product > max_height : \n",
    "                    max_height = product\n",
    "                else:\n",
    "                    l = l + 1\n",
    "                    \n",
    "        return max_height\n",
    "               \n",
    "                \n",
    "                \n",
    "            \n",
    "        \n",
    "        \n",
    "\n",
    "height = [1,3,2,5,25,24,5]\n",
    "\n",
    "s  = Solution()\n",
    "s.maxArea(height)\n",
    "        "
   ]
  },
  {
   "cell_type": "code",
   "execution_count": 52,
   "id": "6f014b4e",
   "metadata": {},
   "outputs": [],
   "source": [
    "height = [1,8,6,2,5,4,8,3,7]\n"
   ]
  },
  {
   "cell_type": "code",
   "execution_count": 53,
   "id": "70ae5fac",
   "metadata": {},
   "outputs": [
    {
     "data": {
      "text/plain": [
       "7"
      ]
     },
     "execution_count": 53,
     "metadata": {},
     "output_type": "execute_result"
    }
   ],
   "source": [
    "len(height[1:8])"
   ]
  },
  {
   "cell_type": "code",
   "execution_count": null,
   "id": "29494050",
   "metadata": {},
   "outputs": [],
   "source": []
  },
  {
   "cell_type": "code",
   "execution_count": 33,
   "id": "ae6acbc6",
   "metadata": {},
   "outputs": [],
   "source": [
    "height = [0,1,0,2,1,0,1,3,2,1,2,1]\n"
   ]
  },
  {
   "cell_type": "code",
   "execution_count": 38,
   "id": "d328028d",
   "metadata": {},
   "outputs": [
    {
     "name": "stdout",
     "output_type": "stream",
     "text": [
      "[0, 1, 1, 2, 2, 2, 2, 3, 3, 3, 3, 3] [3, 3, 3, 3, 3, 3, 3, 3, 2, 2, 2, 1] 12 12 12\n",
      "\n",
      "0\n",
      "\n",
      "0\n",
      "\n",
      "1\n",
      "\n",
      "0\n",
      "\n",
      "1\n",
      "\n",
      "2\n",
      "\n",
      "1\n",
      "\n",
      "0\n",
      "\n",
      "0\n",
      "\n",
      "1\n",
      "\n",
      "0\n",
      "\n",
      "0\n"
     ]
    },
    {
     "data": {
      "text/plain": [
       "6"
      ]
     },
     "execution_count": 38,
     "metadata": {},
     "output_type": "execute_result"
    }
   ],
   "source": [
    "#noob way \n",
    "class Solution(object):\n",
    "    def trap(self, height):\n",
    "        l= [] \n",
    "        r = [] \n",
    "        ml = 0 \n",
    "        mr = 0 \n",
    "        f = [] \n",
    "        for i in range(len(height)):\n",
    "            if height[i] > ml : \n",
    "                ml = height[i]\n",
    "              \n",
    "           \n",
    "            l.append(ml)\n",
    "            \n",
    "        for j in range(len(height)-1 , -1 , -1):\n",
    "            if height[j] > mr : \n",
    "                mr = height[j]\n",
    "             \n",
    "                \n",
    "            r.append(mr)\n",
    "        r = r[::-1]\n",
    "        \n",
    "        t = 0 \n",
    "        print(l , r , len(l) , len(height) , len(r))\n",
    "        for a in range(len(height)):\n",
    "            print()\n",
    "            s = min(l[a], r[a]) - height[a]\n",
    "            print(s)\n",
    "            t = t + (0 if s < 0 else s)\n",
    "        return t\n",
    "            \n",
    "            \n",
    "            \n",
    "        \n",
    "\n",
    "        \n",
    "height = [0,1,0,2,1,0,1,3,2,1,2,1]\n",
    "      \n",
    "s = Solution()\n",
    "s.trap(height)"
   ]
  },
  {
   "cell_type": "code",
   "execution_count": 45,
   "id": "41217591",
   "metadata": {},
   "outputs": [
    {
     "data": {
      "text/plain": [
       "'apbqcd'"
      ]
     },
     "execution_count": 45,
     "metadata": {},
     "output_type": "execute_result"
    }
   ],
   "source": [
    "class Solution(object):\n",
    "    def mergeAlternately(self, word1, word2):\n",
    "        f = ''\n",
    "        for i  in range(len(word1)):\n",
    "            if i <= len(word2)-1:\n",
    "                f = f + word1[i]+word2[i]\n",
    "            else:\n",
    "                \n",
    "                f = f + word1[i]\n",
    "        \n",
    "        if len(word2) > len(word1):\n",
    "            f = f + word2[len(word1):]\n",
    "\n",
    "\n",
    "        return f \n",
    "\n",
    "\n",
    "\n",
    "word1 = \"abcd\"\n",
    "word2 = \"pq\"\n",
    "s = Solution()\n",
    "s.mergeAlternately(word1 , word2)\n",
    "        "
   ]
  },
  {
   "cell_type": "code",
   "execution_count": 67,
   "id": "f45f9be4",
   "metadata": {},
   "outputs": [
    {
     "name": "stdout",
     "output_type": "stream",
     "text": [
      "['AB', 'ABC']\n"
     ]
    },
    {
     "data": {
      "text/plain": [
       "'ABC'"
      ]
     },
     "execution_count": 67,
     "metadata": {},
     "output_type": "execute_result"
    }
   ],
   "source": [
    "class Solution(object):\n",
    "    def gcdOfStrings(self, str1, str2):\n",
    "        f = [] \n",
    "        s = str1[0]\n",
    "        for i in range(1 , len(str2)):\n",
    "            if i < len(str1)-1:\n",
    "                s = s + str1[i]\n",
    "                if s in str2 :  \n",
    "                    f.append(s)\n",
    "                else: \n",
    "                    print(\"else\" , str1[i])\n",
    "                    s = str1[i]\n",
    "        print(f)\n",
    "        if len(f) == 0 :\n",
    "            return ''\n",
    "        m = max(f , key = len)\n",
    "        \n",
    "        sx = ''\n",
    "        for i in range(len(m)):\n",
    "            if sx == m[i:len(m)]:\n",
    "                return sx\n",
    "            else:\n",
    "                sx = sx + m[i]\n",
    "        return m\n",
    "        \n",
    "            \n",
    "    \n",
    "    \n",
    "\n",
    "str1 = \"ABCABC\"\n",
    "str2 = \"ABC\"\n",
    "s = Solution()\n",
    "s.gcdOfStrings(str1 , str2)"
   ]
  },
  {
   "cell_type": "code",
   "execution_count": 61,
   "id": "0e0cc055",
   "metadata": {},
   "outputs": [
    {
     "data": {
      "text/plain": [
       "'ABAB'"
      ]
     },
     "execution_count": 61,
     "metadata": {},
     "output_type": "execute_result"
    }
   ],
   "source": [
    "s = \"ABAB\"\n",
    "s[0:len(s)]"
   ]
  },
  {
   "cell_type": "code",
   "execution_count": 88,
   "id": "eead759e",
   "metadata": {},
   "outputs": [
    {
     "name": "stdout",
     "output_type": "stream",
     "text": [
      "else\n",
      "else\n",
      "elif 2\n",
      "else\n",
      "else\n",
      "elif 2\n",
      "else\n"
     ]
    },
    {
     "data": {
      "text/plain": [
       "True"
      ]
     },
     "execution_count": 88,
     "metadata": {},
     "output_type": "execute_result"
    }
   ],
   "source": [
    "class Solution(object):\n",
    "    def canPlaceFlowers(self, flowerbed, n):\n",
    "        f = [] \n",
    "        s = 0 \n",
    "        for i in range(len(flowerbed)):\n",
    "            ii = 0 if i -1 < 0 else i\n",
    "            if flowerbed[i] == 0 and flowerbed[i+1] !=1 and  flowerbed[ii] :\n",
    "                print(\"if\" , i)\n",
    "                f.append(True)\n",
    "            elif s == 2 and flowerbed[i] == 0   : \n",
    "                print(\"elif\" , s)\n",
    "                f.append(True)\n",
    "                s = 0 \n",
    "            else :\n",
    "                print(\"else\")\n",
    "                s =  s + 1 \n",
    "        if len(f) == n : \n",
    "            return True \n",
    "        else : \n",
    "            return False\n",
    "                \n",
    "\n",
    "        \n",
    "\n",
    "flowerbed = [1,0,0,0,0,0,1]\n",
    "\n",
    "n = 2\n",
    "s = Solution()\n",
    "s.canPlaceFlowers(flowerbed , n)"
   ]
  },
  {
   "cell_type": "code",
   "execution_count": null,
   "id": "70529c7f",
   "metadata": {},
   "outputs": [],
   "source": [
    "#Stack"
   ]
  },
  {
   "cell_type": "code",
   "execution_count": null,
   "id": "19280c6c",
   "metadata": {},
   "outputs": [],
   "source": [
    "# Valid Parenthesis"
   ]
  },
  {
   "cell_type": "code",
   "execution_count": 48,
   "id": "b6917f36",
   "metadata": {},
   "outputs": [
    {
     "name": "stdout",
     "output_type": "stream",
     "text": [
      "4 {{{{}}}}\n",
      "0 {{{}}}\n",
      "1 {{{}}}\n",
      "0 {}}}\n",
      "****** {}}}\n"
     ]
    },
    {
     "data": {
      "text/plain": [
       "False"
      ]
     },
     "execution_count": 48,
     "metadata": {},
     "output_type": "execute_result"
    }
   ],
   "source": [
    "class Solution(object):\n",
    "    def isValid(self, s):\n",
    "        x = {')' : '(' , ']':'[' , '}':'{'}\n",
    "        \n",
    "        l =''\n",
    "        i = 0 \n",
    "        for v in s:\n",
    "            if v in x :\n",
    "                print(i , s)\n",
    "                if x[v] == s[i-1] :\n",
    "                    s = s[:i-1]+s[i+1:]\n",
    "                    i = 0\n",
    "                else:\n",
    "                    i = i + 1 \n",
    "            else:\n",
    "                i = i + 1 \n",
    "            \n",
    "        print(\"******\" , s)\n",
    "        if len(s) == 0 : \n",
    "            return True \n",
    "        return False\n",
    "                \n",
    "        \n",
    "       \n",
    "    \n",
    "\n",
    "v =  '{{{{}}}}'\n",
    "s = Solution()\n",
    "s.isValid(v)"
   ]
  },
  {
   "cell_type": "code",
   "execution_count": 59,
   "id": "b9811b45",
   "metadata": {},
   "outputs": [
    {
     "name": "stdout",
     "output_type": "stream",
     "text": [
      "{{{{}}}}\n"
     ]
    },
    {
     "data": {
      "text/plain": [
       "True"
      ]
     },
     "execution_count": 59,
     "metadata": {},
     "output_type": "execute_result"
    }
   ],
   "source": [
    "##### Leetcode solution \n",
    "class Solution(object):\n",
    "    def isValid(self, s):\n",
    "        close  = {')' : '(' , ']':'[' , '}':'{'}\n",
    "        stack = []\n",
    "        \n",
    "        for i in s : \n",
    "           \n",
    "            if i in close :\n",
    "                if stack and stack[-1] == close[i]:\n",
    "                    stack.pop()\n",
    "                else:\n",
    "                    return False\n",
    "            \n",
    "            else : \n",
    "                stack.append(i)\n",
    "        print(s)\n",
    "        return True if len(stack) == 0 else False\n",
    "       \n",
    "    \n",
    "\n",
    "v =  '{{{{}}}}'\n",
    "s = Solution()\n",
    "s.isValid(v)"
   ]
  },
  {
   "cell_type": "code",
   "execution_count": 4,
   "id": "780952d0",
   "metadata": {},
   "outputs": [
    {
     "name": "stdout",
     "output_type": "stream",
     "text": [
      "0\n",
      "1\n",
      "2\n",
      "3\n",
      "4\n"
     ]
    },
    {
     "data": {
      "text/plain": [
       "[0, 1, 0, 3, 0]"
      ]
     },
     "execution_count": 4,
     "metadata": {},
     "output_type": "execute_result"
    }
   ],
   "source": [
    "class Solution(object):\n",
    "    def moveZeroes(self, nums):\n",
    "        if len(nums)< 0 :\n",
    "            return [] \n",
    "        for i in range(len(nums)) : \n",
    "            print(i)\n",
    "            if nums[i] == 0 :\n",
    "                nums[-1] = 0 \n",
    "                \n",
    "        return nums\n",
    "                \n",
    "        \n",
    "\n",
    "        \n",
    "nums = [0,1,0,3,12]        \n",
    "s = Solution()\n",
    "s.moveZeroes(nums)"
   ]
  },
  {
   "cell_type": "code",
   "execution_count": null,
   "id": "b2b196bc",
   "metadata": {},
   "outputs": [],
   "source": [
    "Find the index of the first occurance of the String"
   ]
  },
  {
   "cell_type": "code",
   "execution_count": 24,
   "id": "52231755",
   "metadata": {},
   "outputs": [
    {
     "name": "stdout",
     "output_type": "stream",
     "text": [
      "0 1 a\n",
      "if\n",
      "2 3 c\n",
      "2 4 cd\n"
     ]
    },
    {
     "ename": "IndexError",
     "evalue": "string index out of range",
     "output_type": "error",
     "traceback": [
      "\u001b[1;31m---------------------------------------------------------------------------\u001b[0m",
      "\u001b[1;31mIndexError\u001b[0m                                Traceback (most recent call last)",
      "Input \u001b[1;32mIn [24]\u001b[0m, in \u001b[0;36m<cell line: 39>\u001b[1;34m()\u001b[0m\n\u001b[0;32m     37\u001b[0m needle \u001b[38;5;241m=\u001b[39m \u001b[38;5;124m\"\u001b[39m\u001b[38;5;124md\u001b[39m\u001b[38;5;124m\"\u001b[39m\n\u001b[0;32m     38\u001b[0m s \u001b[38;5;241m=\u001b[39m Solution()\n\u001b[1;32m---> 39\u001b[0m \u001b[43ms\u001b[49m\u001b[38;5;241;43m.\u001b[39;49m\u001b[43mstrStr\u001b[49m\u001b[43m(\u001b[49m\u001b[43mhaystack\u001b[49m\u001b[43m,\u001b[49m\u001b[43m \u001b[49m\u001b[43mneedle\u001b[49m\u001b[43m)\u001b[49m\n",
      "Input \u001b[1;32mIn [24]\u001b[0m, in \u001b[0;36mSolution.strStr\u001b[1;34m(self, haystack, needle)\u001b[0m\n\u001b[0;32m     13\u001b[0m     \u001b[38;5;28mprint\u001b[39m(\u001b[38;5;124m\"\u001b[39m\u001b[38;5;124melif \u001b[39m\u001b[38;5;124m\"\u001b[39m , x)\n\u001b[0;32m     15\u001b[0m     \u001b[38;5;28;01mreturn\u001b[39;00m r \u001b[38;5;28;01mif\u001b[39;00m \u001b[38;5;28mlen\u001b[39m(x) \u001b[38;5;241m<\u001b[39m \u001b[38;5;241m1\u001b[39m \u001b[38;5;28;01melse\u001b[39;00m x[\u001b[38;5;241m0\u001b[39m]\n\u001b[1;32m---> 16\u001b[0m \u001b[38;5;28;01melif\u001b[39;00m \u001b[43mhaystack\u001b[49m\u001b[43m[\u001b[49m\u001b[43mr\u001b[49m\u001b[43m]\u001b[49m \u001b[38;5;129;01mnot\u001b[39;00m \u001b[38;5;129;01min\u001b[39;00m needle : \n\u001b[0;32m     17\u001b[0m     \u001b[38;5;28mprint\u001b[39m(\u001b[38;5;124m\"\u001b[39m\u001b[38;5;124mif\u001b[39m\u001b[38;5;124m\"\u001b[39m)\n\u001b[0;32m     18\u001b[0m     l \u001b[38;5;241m=\u001b[39m r \u001b[38;5;241m+\u001b[39m\u001b[38;5;241m1\u001b[39m\n",
      "\u001b[1;31mIndexError\u001b[0m: string index out of range"
     ]
    }
   ],
   "source": [
    "class Solution:\n",
    "    def strStr(self, haystack: str, needle: str):\n",
    "        if len(haystack) < 2: \n",
    "            return 0\n",
    "        if needle in haystack :\n",
    "            l = 0 \n",
    "            r = l + 1 \n",
    "            w = haystack[l]\n",
    "            x = []\n",
    "            while l< r :\n",
    "                print(l , r , w)\n",
    "                if w == needle : \n",
    "                    print(\"elif \" , x)\n",
    "                    \n",
    "                    return r if len(x) < 1 else x[0]\n",
    "                elif haystack[r] not in needle : \n",
    "                    print(\"if\")\n",
    "                    l = r +1\n",
    "                    r = l + 1\n",
    "                    x = [] \n",
    "                    w = haystack[l]\n",
    "               \n",
    "                else : \n",
    "                  \n",
    "                    w = w + haystack[r]\n",
    "                    r = r + 1 \n",
    "                    x.append(l)\n",
    "                    \n",
    "                \n",
    "                \n",
    "            \n",
    "            \n",
    "        return -1 \n",
    "        \n",
    "        \n",
    "haystack = \"abcd\"\n",
    "needle = \"d\"\n",
    "s = Solution()\n",
    "s.strStr(haystack, needle)\n",
    "        "
   ]
  },
  {
   "cell_type": "code",
   "execution_count": null,
   "id": "1344bddc",
   "metadata": {},
   "outputs": [],
   "source": [
    "# Min Stack"
   ]
  },
  {
   "cell_type": "code",
   "execution_count": 8,
   "id": "d1dd3c9d",
   "metadata": {},
   "outputs": [
    {
     "name": "stdout",
     "output_type": "stream",
     "text": [
      "-3\n",
      "param 3 , and 4 0 -3\n"
     ]
    }
   ],
   "source": [
    "class MinStack:\n",
    "\n",
    "    def __init__(self):\n",
    "        self.stack = []\n",
    "        self.min_stack = []\n",
    "\n",
    "    def push(self, val: int) -> None:\n",
    "        self.stack.append(val)\n",
    "        if not self.min_stack or val <= self.min_stack[-1]:\n",
    "            self.min_stack.append(val)\n",
    "\n",
    "    def pop(self) -> None:\n",
    "        if self.stack:\n",
    "            if self.stack[-1] == self.min_stack[-1]:\n",
    "                self.min_stack.pop()\n",
    "            self.stack.pop()\n",
    "\n",
    "    def top(self) -> int:\n",
    "        if self.stack:\n",
    "            return self.stack[-1]\n",
    "\n",
    "    def getMin(self) -> int:\n",
    "        if self.min_stack:\n",
    "            return self.min_stack[-1]\n"
   ]
  },
  {
   "cell_type": "code",
   "execution_count": null,
   "id": "b82c65e1",
   "metadata": {},
   "outputs": [],
   "source": [
    "Evaluate reverse polish number "
   ]
  },
  {
   "cell_type": "code",
   "execution_count": 14,
   "id": "d5155f5d",
   "metadata": {},
   "outputs": [
    {
     "name": "stdout",
     "output_type": "stream",
     "text": [
      "if ['4', '13', '5']\n",
      "else ['4', 2.6]\n",
      "[6]\n"
     ]
    }
   ],
   "source": [
    "class Solution:\n",
    "    def evalRPN(self, tokens):\n",
    "        if len(tokens) < 2 :\n",
    "            return 0\n",
    "        stack = [] \n",
    "        for i in tokens : \n",
    "            if i == '/':\n",
    "                print(\"if\" , stack)\n",
    "                \n",
    "                last = int(stack.pop())\n",
    "                first = int(stack.pop())\n",
    "                val = first / last \n",
    "                stack.append(val)\n",
    "            elif i == '+' :\n",
    "                print(\"else\" , stack)\n",
    "                last = int(stack.pop())\n",
    "                first = int(stack.pop())\n",
    "                val = first + last \n",
    "                stack.append(val)\n",
    "            elif i == '-' :\n",
    "                print(\"else\" , stack)\n",
    "                last = int(stack.pop())\n",
    "                first = int(stack.pop())\n",
    "                val = first - last \n",
    "                stack.append(val)\n",
    "            elif i == '*' :\n",
    "                print(\"else\" , stack)\n",
    "                last = int(stack.pop())\n",
    "                first = int(stack.pop())\n",
    "                val = first * last \n",
    "                stack.append(val)\n",
    "                \n",
    "            else:\n",
    "                stack.append(i)\n",
    "                \n",
    "        return stack[0]\n",
    "                \n",
    "        \n",
    "        \n",
    "        \n",
    "        \n",
    "x = [\"4\",\"13\",\"5\",\"/\",\"+\"]        \n",
    "s = Solution()\n",
    "s.evalRPN(x)"
   ]
  },
  {
   "cell_type": "code",
   "execution_count": 58,
   "id": "8f7acbb6",
   "metadata": {},
   "outputs": [
    {
     "name": "stdout",
     "output_type": "stream",
     "text": [
      "0 1\n",
      "1 2\n",
      "2 3\n",
      "2 4\n",
      "2 5\n",
      "2 6\n",
      "3 4\n",
      "3 5\n",
      "4 5\n",
      "5 6\n",
      "6 7\n",
      "if  6 7 76\n",
      "7 8\n"
     ]
    },
    {
     "data": {
      "text/plain": [
       "[1, 1, 4, 2, 1, 1, 0, 0]"
      ]
     },
     "execution_count": 58,
     "metadata": {},
     "output_type": "execute_result"
    }
   ],
   "source": [
    "## daily temparature usinf two pointer \n",
    "class Solution:\n",
    "    def dailyTemperatures(self, temperatures):\n",
    "        l = 0 \n",
    "        r = l + 1\n",
    "        val = []\n",
    "        i = 0  \n",
    "        while True:\n",
    "            print( l , r)\n",
    "            i = i + 1 \n",
    "            if r == len(temperatures)-1 and temperatures[r] < temperatures[l] :\n",
    "                print(\"if \" , l , r ,  temperatures[l])\n",
    "                val.append(0)\n",
    "                l = l + 1 \n",
    "                r = l  + 1 \n",
    "                i =  0 \n",
    "                \n",
    "            elif l == len(temperatures)-1: \n",
    "               \n",
    "                val.append(0)\n",
    "                break\n",
    "            elif temperatures[r] > temperatures[l] : \n",
    "                val.append(i)\n",
    "                l = l + 1 \n",
    "                r = l + 1\n",
    "                i = 0 \n",
    "            else:\n",
    "                if r < len(temperatures)-1: \n",
    "                    r = r + 1\n",
    "                \n",
    "        return val\n",
    "                \n",
    "        \n",
    "\n",
    "temperatures = [73,74,75,71,69,72,76,73]\n",
    "      \n",
    "s = Solution()\n",
    "s.dailyTemperatures(temperatures)\n",
    "        "
   ]
  },
  {
   "cell_type": "code",
   "execution_count": null,
   "id": "cb64f51e",
   "metadata": {},
   "outputs": [],
   "source": [
    "[3,1,1,2,1,1,0,1,1,0]\n"
   ]
  },
  {
   "cell_type": "code",
   "execution_count": null,
   "id": "d2740420",
   "metadata": {},
   "outputs": [],
   "source": [
    "## generate  parentheses  well formed "
   ]
  },
  {
   "cell_type": "code",
   "execution_count": 4,
   "id": "f635f1c6",
   "metadata": {},
   "outputs": [
    {
     "data": {
      "text/plain": [
       "['(((())))',\n",
       " '((()()))',\n",
       " '((())())',\n",
       " '((()))()',\n",
       " '(()(()))',\n",
       " '(()()())',\n",
       " '(()())()',\n",
       " '(())(())',\n",
       " '(())()()',\n",
       " '()((()))',\n",
       " '()(()())',\n",
       " '()(())()',\n",
       " '()()(())',\n",
       " '()()()()']"
      ]
     },
     "execution_count": 4,
     "metadata": {},
     "output_type": "execute_result"
    }
   ],
   "source": [
    "class Solution:\n",
    "    def generateParenthesis(self, n):\n",
    "        ## open < n \n",
    "        ## closed < open \n",
    "        ## open == closed  == n \n",
    "        stack = []\n",
    "        res = []\n",
    "        \n",
    "        def backtracking(openN , closeN):\n",
    "            if openN == closeN == n : \n",
    "                res.append(\"\".join(stack))\n",
    "                return \n",
    "            if openN < n : \n",
    "                stack.append(\"(\")\n",
    "                backtracking(openN+1 , closeN)\n",
    "                stack.pop()\n",
    "            if closeN < openN :\n",
    "                stack.append(\")\")\n",
    "                backtracking(openN , closeN+1)\n",
    "                stack.pop()\n",
    "                             \n",
    "        backtracking(0 , 0)\n",
    "        return res\n",
    "                        \n",
    "                        \n",
    "        \n",
    "        \n",
    "n = 4\n",
    "s = Solution()\n",
    "s.generateParenthesis(n)\n",
    "        "
   ]
  },
  {
   "cell_type": "code",
   "execution_count": null,
   "id": "6460f95f",
   "metadata": {},
   "outputs": [],
   "source": [
    "## Largets Reactangle"
   ]
  },
  {
   "cell_type": "code",
   "execution_count": 15,
   "id": "1011b79f",
   "metadata": {},
   "outputs": [
    {
     "name": "stdout",
     "output_type": "stream",
     "text": [
      "[2, 2, 2, 4, 12, 12]\n"
     ]
    }
   ],
   "source": [
    "class Solution:\n",
    "    def largestRectangleArea(self, heights):\n",
    "        max_stack = []\n",
    "        area = 1 \n",
    "        for i in heights:\n",
    "            if len(max_stack) < 1 :\n",
    "                max_stack.append(i)\n",
    "            else:\n",
    "                last = max_stack[-1]\n",
    "                if last > i :\n",
    "                    max_area = area * last\n",
    "                    max_stack.append(max_area)\n",
    "                    area = 1 \n",
    "                    \n",
    "                    \n",
    "                else:\n",
    "                    max_area = area * last\n",
    "                    max_stack.append(max_area)\n",
    "                   \n",
    "                    area = area + 1 \n",
    "                    \n",
    "                \n",
    "        print(max_stack)\n",
    "                \n",
    "    \n",
    "heights = [2,1,5,6,2,3]\n",
    "s = Solution()\n",
    "s.largestRectangleArea(heights)\n"
   ]
  },
  {
   "cell_type": "code",
   "execution_count": 18,
   "id": "43201721",
   "metadata": {
    "scrolled": true
   },
   "outputs": [
    {
     "name": "stdout",
     "output_type": "stream",
     "text": [
      "if [2, 1]\n",
      "if [2, 1]\n",
      "if [2, 1]\n",
      "if [2, 1]\n",
      "[2, 1] [2, 3, 4, 5]\n"
     ]
    }
   ],
   "source": [
    "class Solution:\n",
    "    def largestRectangleArea(self, heights):\n",
    "        max_stack = []\n",
    "        stack = []\n",
    "        area = 1 \n",
    "        for i in heights:\n",
    "            if len(max_stack) < 1 : \n",
    "                max_stack.append(i)\n",
    "            else:\n",
    "                if i >= max_stack[-1]:\n",
    "                    max\n",
    "                    print(\"if\" , max_stack)\n",
    "                    area = area + 1 \n",
    "                    stack.append(area*max_stack[-1])\n",
    "                elif i < max_stack[-1]:\n",
    "                    area = 1 \n",
    "                    max_stack.append(i)\n",
    "\n",
    "            \n",
    "                \n",
    "        print(max_stack , stack)\n",
    "                \n",
    "    \n",
    "heights = [2,1,5,6,2,3]\n",
    "s = Solution()\n",
    "s.largestRectangleArea(heights)\n"
   ]
  },
  {
   "cell_type": "code",
   "execution_count": null,
   "id": "6ae699c8",
   "metadata": {},
   "outputs": [],
   "source": [
    "remove element from array "
   ]
  },
  {
   "cell_type": "code",
   "execution_count": 17,
   "id": "b339dd5e",
   "metadata": {},
   "outputs": [
    {
     "name": "stdout",
     "output_type": "stream",
     "text": [
      "[2, 2]\n",
      "2\n"
     ]
    }
   ],
   "source": [
    "class Solution:\n",
    "    def removeElement(self, nums, val):\n",
    "        k = 0\n",
    "        for i in nums:\n",
    "            if i != val:\n",
    "                nums[k] = i\n",
    "                k += 1\n",
    "        \n",
    "        # Truncate the list to remove the remaining elements\n",
    "        nums[k:] = []\n",
    "        print(nums)\n",
    "        return len(nums)  # Return the new length of the list\n",
    "\n",
    "nums = [3, 2, 2, 3]\n",
    "val = 3\n",
    "s = Solution()\n",
    "new_length = s.removeElement(nums, val)\n",
    "print(new_length)  # This will print the new length of the modified list\n"
   ]
  },
  {
   "cell_type": "code",
   "execution_count": 1,
   "id": "0a28a80f",
   "metadata": {},
   "outputs": [
    {
     "data": {
      "text/plain": [
       "['_', '_', '_', '_', '_', '_', '_', '_', '_', '_']"
      ]
     },
     "execution_count": 1,
     "metadata": {},
     "output_type": "execute_result"
    }
   ],
   "source": [
    "new_nums = [\"_\"]*10\n",
    "new_nums"
   ]
  },
  {
   "cell_type": "code",
   "execution_count": null,
   "id": "a5f854da",
   "metadata": {},
   "outputs": [],
   "source": [
    "151. Reverse Words in a String\n"
   ]
  },
  {
   "cell_type": "code",
   "execution_count": null,
   "id": "16dba3f4",
   "metadata": {},
   "outputs": [],
   "source": [
    "\"example good a\"\n"
   ]
  },
  {
   "cell_type": "code",
   "execution_count": 51,
   "id": "e085878a",
   "metadata": {},
   "outputs": [
    {
     "name": "stdout",
     "output_type": "stream",
     "text": [
      "[' a', ' good', ' ', ' ', ' ', ' ', ' ', ' ', ' ', ' ', ' ', ' ', 'example']\n",
      "7\n",
      "0\n",
      "0\n",
      "0\n",
      "0\n",
      "0\n",
      "0\n",
      "0\n",
      "0\n",
      "0\n",
      "0\n",
      "4\n",
      "1\n"
     ]
    },
    {
     "data": {
      "text/plain": [
       "'example good a'"
      ]
     },
     "execution_count": 51,
     "metadata": {},
     "output_type": "execute_result"
    }
   ],
   "source": [
    "class Solution:\n",
    "    def reverseWords(self, s: str) :\n",
    "       \n",
    "        stack = []\n",
    "        n = ''\n",
    "        k = 0 \n",
    "        for i in s : \n",
    "            k = k + 1 \n",
    "           \n",
    "            if len(i.strip()) == 0:\n",
    "                n  = ' ' + n \n",
    "                stack.append(n)\n",
    "                n = ''\n",
    "            elif k == len(s):\n",
    "                n = n + i \n",
    "                stack.append(n)\n",
    "            else:\n",
    "                n = n + i \n",
    "                \n",
    "        print(stack)\n",
    "        n  = ''\n",
    "        for i in stack[::-1]:\n",
    "            print(len(i.strip()))\n",
    "            if len(i.strip()) == 0 :\n",
    "                i = ''\n",
    "            n = n + i \n",
    "            \n",
    "        return n.strip()\n",
    "        \n",
    "        \n",
    "    \n",
    "            \n",
    "            \n",
    "        \n",
    "        \n",
    "        \n",
    "word = \"a good           example\"\n",
    "s = Solution() \n",
    "s.reverseWords(word)"
   ]
  },
  {
   "cell_type": "code",
   "execution_count": 65,
   "id": "a81a8dc4",
   "metadata": {},
   "outputs": [
    {
     "data": {
      "text/plain": [
       "'holle'"
      ]
     },
     "execution_count": 65,
     "metadata": {},
     "output_type": "execute_result"
    }
   ],
   "source": [
    "class Solution:\n",
    "    def reverseVowels(self, s: str):\n",
    "        s = list(s)\n",
    "        k = 0\n",
    "        vo = ['a' ,'e' , 'i' , 'u' , 'o']\n",
    "        x = ''\n",
    "        for i in s : \n",
    "            if i in vo : \n",
    "                s[k] = '_'\n",
    "                x = x + i\n",
    "            k = k + 1 \n",
    "        k = 0 \n",
    "        c = len(x)-1\n",
    "        x = list(x)\n",
    "        for i in s:\n",
    "            if i == '_':\n",
    "                s[k] = x[c] \n",
    "                c = c - 1 \n",
    "            k = k + 1 \n",
    "            \n",
    "        return ''.join(s)\n",
    "            \n",
    "            \n",
    "        \n",
    "        \n",
    "e = \"hello\"\n",
    "s = Solution()\n",
    "s.reverseVowels(e)"
   ]
  },
  {
   "cell_type": "code",
   "execution_count": 62,
   "id": "f402a87b",
   "metadata": {},
   "outputs": [
    {
     "data": {
      "text/plain": [
       "'_ello'"
      ]
     },
     "execution_count": 62,
     "metadata": {},
     "output_type": "execute_result"
    }
   ],
   "source": [
    "e = list(\"hello\")\n",
    "e[0] = '_'\n",
    "''.join(e)\n"
   ]
  },
  {
   "cell_type": "code",
   "execution_count": 11,
   "id": "c94782ac",
   "metadata": {},
   "outputs": [
    {
     "data": {
      "text/plain": [
       "['o', 'l', 'l', 'e', 'h']"
      ]
     },
     "execution_count": 11,
     "metadata": {},
     "output_type": "execute_result"
    }
   ],
   "source": [
    "class Solution:\n",
    "    def reverseString(self, s):\n",
    "        left , right  = 0 , len(s)-1 \n",
    "        while left < right : \n",
    "            s[left] , s[right] = s[right] , s[left]\n",
    "            left = left + 1 \n",
    "            right = right - 1 \n",
    "        return s \n",
    "            \n",
    "s = Solution() \n",
    "s.reverseString([\"h\",\"e\",\"l\",\"l\",\"o\"])"
   ]
  },
  {
   "cell_type": "code",
   "execution_count": 18,
   "id": "dd61d1dd",
   "metadata": {},
   "outputs": [
    {
     "data": {
      "text/plain": [
       "-321"
      ]
     },
     "execution_count": 18,
     "metadata": {},
     "output_type": "execute_result"
    }
   ],
   "source": [
    "class Solution:\n",
    "    def reversNo(self , x):\n",
    "        return int(str(x)[::-1])\n",
    "    \n",
    "    def reverse(self, x):\n",
    "        if x < 0 : \n",
    "            return self.reversNo(x*-1)*-1 \n",
    "        return self.reversNo(x)\n",
    "        \n",
    "        \n",
    "   \n",
    "    \n",
    "    \n",
    "s = Solution()\n",
    "s.reverse(-123)\n",
    "        "
   ]
  },
  {
   "cell_type": "code",
   "execution_count": 28,
   "id": "b423493e",
   "metadata": {},
   "outputs": [
    {
     "name": "stdout",
     "output_type": "stream",
     "text": [
      "{'l': [0, 2], 'o': [1, 2], 'v': [2, 1], 'e': [3, 4], 't': [7, 1], 'c': [8, 1], 'd': [10, 1]}\n",
      "[0, 2]\n",
      "[1, 2]\n",
      "[2, 1]\n"
     ]
    },
    {
     "data": {
      "text/plain": [
       "2"
      ]
     },
     "execution_count": 28,
     "metadata": {},
     "output_type": "execute_result"
    }
   ],
   "source": [
    "class Solution:\n",
    "    def firstUniqChar(self, s):\n",
    "        heap =  {}\n",
    "        for i in range(len(s)):\n",
    "            if s[i] in heap:\n",
    "                heap[s[i]][1] = heap[s[i]][1] + 1 \n",
    "                \n",
    "            else:\n",
    "                heap[s[i]] = [i , 1] \n",
    "        print(heap)         \n",
    "        for k , v in heap.items() :\n",
    "            print(v)\n",
    "            if v[1] == 1 :\n",
    "                return v[0]\n",
    "        return -1\n",
    "            \n",
    "        \n",
    "s = Solution() \n",
    "s.firstUniqChar(\"loveleetcode\")\n",
    "                \n",
    "        \n",
    "        "
   ]
  }
 ],
 "metadata": {
  "kernelspec": {
   "display_name": "Python 3 (ipykernel)",
   "language": "python",
   "name": "python3"
  },
  "language_info": {
   "codemirror_mode": {
    "name": "ipython",
    "version": 3
   },
   "file_extension": ".py",
   "mimetype": "text/x-python",
   "name": "python",
   "nbconvert_exporter": "python",
   "pygments_lexer": "ipython3",
   "version": "3.9.12"
  }
 },
 "nbformat": 4,
 "nbformat_minor": 5
}
