{
 "cells": [
  {
   "cell_type": "markdown",
   "metadata": {},
   "source": [
    "<h1> Binary Tree  </h1>\n",
    "\n",
    "<p>Traversal </p> \n",
    "\n",
    "Inorder : Left > Data > Right \n",
    "Preorder : Data > Left > Right \n",
    "Postorder : Left > Data > Post \n",
    "\n",
    "\n",
    "\n"
   ]
  },
  {
   "cell_type": "code",
   "execution_count": 4,
   "metadata": {},
   "outputs": [
    {
     "name": "stdout",
     "output_type": "stream",
     "text": [
      "data Inorder 3\n",
      "data Inorder 5\n",
      "data Inorder 6\n"
     ]
    }
   ],
   "source": [
    "class Node :\n",
    "    def __init__(self , data):\n",
    "        self.data = data\n",
    "        self.left = None \n",
    "        self.right = None \n",
    "    \n",
    "    def Inorder(self):\n",
    "        if self.left : \n",
    "            self.left.Inorder()\n",
    "        print(\"data Inorder\" , self.data) \n",
    "        if self.right : \n",
    "            self.right.Inorder()\n",
    "            \n",
    "    def Preorder(self):\n",
    "        print(\"data Inorder\" , self.data) \n",
    "        \n",
    "        if self.left : \n",
    "            self.left.Preorder()\n",
    "        \n",
    "        if self.right : \n",
    "            self.right.Preorder()\n",
    "            \n",
    "    def Postorder(self):\n",
    "        if self.left : \n",
    "            self.left.Postorder()\n",
    "        \n",
    "        if self.right : \n",
    "            self.right.Postorder()\n",
    "        print(\"data Inorder\" , self.data) \n",
    "            \n",
    "    \n",
    " \n",
    "root = Node(5)\n",
    "root.left = Node(3)\n",
    "root.right = Node(6)       \n",
    "\n",
    "\n",
    "root.Inorder()\n",
    "\n"
   ]
  },
  {
   "cell_type": "markdown",
   "metadata": {},
   "source": [
    "<h1> Binary Search Tree </h1>"
   ]
  },
  {
   "cell_type": "code",
   "execution_count": 9,
   "metadata": {},
   "outputs": [
    {
     "name": "stdout",
     "output_type": "stream",
     "text": [
      "--------- 5\n",
      "--------- 8\n",
      "--------- 8\n",
      "1\n",
      "5\n",
      "6\n",
      "7\n",
      "8\n",
      "9\n"
     ]
    }
   ],
   "source": [
    "class Node:\n",
    "    def __init__(self, value):\n",
    "        self.value = value\n",
    "        self.left = None\n",
    "        self.right = None\n",
    "\n",
    "    def insert(self, data):\n",
    "        if data < self.value:\n",
    "            print(\"---------\" , self.value)\n",
    "            if self.left is None:\n",
    "                self.left = Node(data)\n",
    "            else:\n",
    "                self.left.insert(data)\n",
    "        elif data > self.value:\n",
    "            if self.right is None:\n",
    "                self.right = Node(data)\n",
    "            else:\n",
    "                self.right.insert(data)\n",
    "\n",
    "    def print_tree(self):\n",
    "        if self.left:\n",
    "            self.left.print_tree()\n",
    "        print(self.value)\n",
    "        if self.right:\n",
    "            self.right.print_tree()\n",
    "\n",
    "# Create a BST with your list of values\n",
    "x = [1, 8, 9, 5, 6, 7, 8, 5]\n",
    "root = Node(5)\n",
    "for value in x:\n",
    "    root.insert(value)\n",
    "\n",
    "# To visualize the tree, you can call the print_tree method.\n",
    "root.print_tree()\n"
   ]
  },
  {
   "cell_type": "code",
   "execution_count": 17,
   "metadata": {},
   "outputs": [
    {
     "name": "stdout",
     "output_type": "stream",
     "text": [
      "2 index >  0\n",
      "3 index >  2\n",
      "4 index >  0\n",
      "5 index >  6\n",
      "7 index >  0\n",
      "8 index >  2\n",
      "9 index >  0\n",
      "Found: 4\n",
      "after delete\n",
      "2 index >  0\n",
      "3 index >  2\n",
      "4 index >  0\n",
      "7 index >  6\n",
      "8 index >  2\n",
      "9 index >  0\n"
     ]
    }
   ],
   "source": [
    "class Node:\n",
    "    def __init__(self, value):\n",
    "        self.value = value\n",
    "        self.left = None\n",
    "        self.right = None\n",
    "        self.index = 0 \n",
    "\n",
    "def insert(root, data):\n",
    "    if root is None:\n",
    "        return Node(data)\n",
    "    if data < root.value:\n",
    "        root.left = insert(root.left, data)\n",
    "        root.index = root.index + 1 \n",
    "    elif data > root.value:\n",
    "        root.right = insert(root.right, data)\n",
    "        root.index = root.index + 1 \n",
    "        \n",
    "    return root\n",
    "\n",
    "\n",
    "\n",
    "def delete(root, key):\n",
    "    if root is None:\n",
    "        return root\n",
    "    if key < root.value:\n",
    "        root.left = delete(root.left, key)\n",
    "    elif key > root.value:\n",
    "        root.right = delete(root.right, key)\n",
    "    else:\n",
    "        if root.left is None:\n",
    "            return root.right\n",
    "        elif root.right is None:\n",
    "            return root.left\n",
    "        root.value = min_value(root.right)\n",
    "        root.right = delete(root.right, root.value)\n",
    "    return root\n",
    "\n",
    "def min_value(node):\n",
    "    while node.left is not None:\n",
    "        node = node.left\n",
    "    return node.value\n",
    "\n",
    "\n",
    "def search(root, key):\n",
    "    if root is None or root.value == key:\n",
    "        return root\n",
    "    if root.value < key:\n",
    "        return search(root.right, key)\n",
    "    return search(root.left, key)\n",
    "\n",
    "def print_tree(root):\n",
    "    if root.left:\n",
    "        print_tree(root.left)\n",
    "    print(root.value , \"index > \" , root.index)\n",
    "    if root.right:\n",
    "        print_tree(root.right)\n",
    "\n",
    "\n",
    "\n",
    "# Create a BST and perform operations\n",
    "root = Node(5)\n",
    "root = insert(root, 3)\n",
    "root = insert(root, 8)\n",
    "root = insert(root, 2)\n",
    "root = insert(root, 4)\n",
    "root = insert(root, 7)\n",
    "root = insert(root, 9)\n",
    "\n",
    "\n",
    "print_tree(root)\n",
    "\n",
    "# Search for a value\n",
    "result = search(root, 4)\n",
    "if result:\n",
    "    print(\"Found:\", result.value)\n",
    "else:\n",
    "    print(\"Not Found\")\n",
    "\n",
    "# Delete a value\n",
    "root = delete(root, 5)\n",
    "\n",
    "print(\"after delete\")\n",
    "\n",
    "print_tree(root)\n",
    "\n"
   ]
  },
  {
   "cell_type": "code",
   "execution_count": 21,
   "metadata": {},
   "outputs": [
    {
     "data": {
      "text/plain": [
       "4"
      ]
     },
     "execution_count": 21,
     "metadata": {},
     "output_type": "execute_result"
    }
   ],
   "source": [
    "4+((5-4)//2)"
   ]
  },
  {
   "cell_type": "code",
   "execution_count": null,
   "metadata": {},
   "outputs": [
    {
     "ename": "",
     "evalue": "",
     "output_type": "error",
     "traceback": [
      "\u001b[1;31mCannot execute code, session has been disposed. Please try restarting the Kernel."
     ]
    },
    {
     "ename": "",
     "evalue": "",
     "output_type": "error",
     "traceback": [
      "\u001b[1;31mThe Kernel crashed while executing code in the the current cell or a previous cell. Please review the code in the cell(s) to identify a possible cause of the failure. Click <a href='https://aka.ms/vscodeJupyterKernelCrash'>here</a> for more info. View Jupyter <a href='command:jupyter.viewOutput'>log</a> for further details."
     ]
    }
   ],
   "source": [
    "# Python3 implementation of QuickSort\n",
    "\n",
    "# Function to find the partition position\n",
    "def partition(array, low, high):+\n",
    "    # Choose the rightmost element as pivot\n",
    "    pivot = array[high]\n",
    "\n",
    "    # Pointer for greater element\n",
    "    i = low - 1\n",
    "\n",
    "    # Traverse through all elements\n",
    "    # compare each element with pivot\n",
    "    for j in range(low, high):\n",
    "        if array[j] <= pivot:\n",
    "            # If element smaller than pivot is found\n",
    "            # swap it with the greater element pointed by i\n",
    "            i = i + 1\n",
    "\n",
    "            # Swapping element at i with element at j\n",
    "            (array[i], array[j]) = (array[j], array[i])\n",
    "\n",
    "    # Swap the pivot element with\n",
    "    # the greater element specified by i\n",
    "    (array[i + 1], array[high]) = (array[high], array[i + 1])\n",
    "\n",
    "    # Return the position from where partition is done\n",
    "    return i + 1\n",
    "\n",
    "# Function to perform quicksort\n",
    "def quicksort(array, low, high):\n",
    "    if low < high:\n",
    "        # Find pivot element such that\n",
    "        # element smaller than pivot are on the left\n",
    "        # element greater than pivot are on the right\n",
    "        pi = partition(array, low, high)\n",
    "\n",
    "        # Recursive call on the left of pivot\n",
    "        quicksort(array, low, pi - 1)\n",
    "\n",
    "        # Recursive call on the right of pivot\n",
    "        quicksort(array, pi + 1, high)\n",
    "\n",
    "# Driver code\n",
    "if __name__ == '__main__':\n",
    "    array = [10, 7, 8, 9, 1, 5]\n",
    "    N = len(array)\n",
    "\n",
    "    # Function call\n",
    "    quicksort(array, 0, N - 1)\n",
    "    print('Sorted array:')\n",
    "    for x in array:\n",
    "        print(x, end=\" \")\n"
   ]
  }
 ],
 "metadata": {
  "kernelspec": {
   "display_name": "Python 3",
   "language": "python",
   "name": "python3"
  },
  "language_info": {
   "codemirror_mode": {
    "name": "ipython",
    "version": 3
   },
   "file_extension": ".py",
   "mimetype": "text/x-python",
   "name": "python",
   "nbconvert_exporter": "python",
   "pygments_lexer": "ipython3",
   "version": "3.9.13"
  },
  "orig_nbformat": 4
 },
 "nbformat": 4,
 "nbformat_minor": 2
}
